{
 "cells": [
  {
   "cell_type": "markdown",
   "metadata": {},
   "source": [
    "# Estimate Important Component Temperatures\n",
    "Avoid overheating at any time\n",
    "\n",
    "# Introduction\n",
    "The main purpose of the data set's recording is to be able to model the stator and rotor temperatures of a PMSM in real-time. Due to the intricate structure of an electric traction drive, direct measurement with thermal sensors is not possible for rotor temperatures, and even in case of the stator temperatures, sensor outage or even just deterioration can't be administered properly without redundant modeling. In addition, precise thermal modeling gets more and more important with the rising relevance of functional safety.\n",
    "\n",
    "Your task is to design a model with appropriate feature engineering, that estimates four target temperatures in a causal manner (no future values should be considered for actual predictions). In order to maintain real-time capability, model sizes should be as small as possible. Note that temperature estimation in production will be deployed on best-cost hardware of traction drives in an automotive environment, where lean computation and lightweight implementation is key.\n",
    "\n",
    "# Details\n",
    "<span style=\"color:blue\">Target features:\n",
    "stator_yoke\n",
    "stator_winding\n",
    "stator_tooth\n",
    "pm\n",
    "</span>\n",
    "# Input features:\n",
    "The remaining features exclusive torque.\n",
    "Torque is a quantity, which is not reliably measurable in field applications, such that this feature shall be omitted in this task.\n",
    "\n",
    "# Cross-validation\n",
    "Profile no. 65 and 72 denote the test set, the rest is for training.\n",
    "\n",
    "# Expected Submission\n",
    "Submit a notebook, where the complete pipeline from pre-processing, feature-engineering, model training, and prediction on profiles 65 and 72 is conducted.\n",
    "\n",
    "# Evaluation\n",
    "A good solution does\n",
    "\n",
    "causal predictions (contemplate only past and current values)\n",
    "have a small model size (in terms of amount of parameters and lightweight execution)\n",
    "predict stator_* and pm features with a very small MSE and a small maximum absolute deviation\n",
    "Extra\n",
    "An additional requirement could be to predict higher temperatures more accurate than low temperatures and have over-estimates more common than under-estimates in order to ensure avoidance of over-heating. These are secondary though due to the more difficult comparability."
   ]
  },
  {
   "cell_type": "markdown",
   "metadata": {},
   "source": [
    "A comprehensive csv files containing all measurement sessions and features.\n",
    "Each row represents one snapshot of sensor data at a certain time step.\n",
    "Sample rate is 2 Hz (One row per 0.5 seconds).\n",
    "Distinctive sessions are identified with \"profile_id\".\n",
    "\n"
   ]
  },
  {
   "cell_type": "markdown",
   "metadata": {},
   "source": [
    "Model I have used for the problems are\n",
    "\n",
    "[**BASIC LINEAR REGRESSION**](#1)\n",
    "\n",
    "[**MULTIPLE LINEAR REGRESSION**](#2)\n",
    "\n",
    "[**PRINCIPAL COMPONENT REGRESSION**](#3)\n",
    "\n",
    "[**K-NEAREST NEIGHBORHOOD REGRESSION**](#4)\n",
    "\n",
    "[**POLYNOMIAL REGRESSION**](#5)\n"
   ]
  },
  {
   "cell_type": "code",
   "execution_count": 44,
   "metadata": {},
   "outputs": [],
   "source": [
    "import numpy as np # linear algebra\n",
    "import pandas as pd # data processing, CSV file I/O (e.g. pd.read_csv)\n",
    "import seaborn as sns\n",
    "\n",
    "import matplotlib.pyplot as plt\n"
   ]
  },
  {
   "cell_type": "code",
   "execution_count": 45,
   "metadata": {},
   "outputs": [
    {
     "data": {
      "text/html": [
       "<div>\n",
       "<style scoped>\n",
       "    .dataframe tbody tr th:only-of-type {\n",
       "        vertical-align: middle;\n",
       "    }\n",
       "\n",
       "    .dataframe tbody tr th {\n",
       "        vertical-align: top;\n",
       "    }\n",
       "\n",
       "    .dataframe thead th {\n",
       "        text-align: right;\n",
       "    }\n",
       "</style>\n",
       "<table border=\"1\" class=\"dataframe\">\n",
       "  <thead>\n",
       "    <tr style=\"text-align: right;\">\n",
       "      <th></th>\n",
       "      <th>ambient</th>\n",
       "      <th>coolant</th>\n",
       "      <th>u_d</th>\n",
       "      <th>u_q</th>\n",
       "      <th>motor_speed</th>\n",
       "      <th>torque</th>\n",
       "      <th>i_d</th>\n",
       "      <th>i_q</th>\n",
       "      <th>pm</th>\n",
       "      <th>stator_yoke</th>\n",
       "      <th>stator_tooth</th>\n",
       "      <th>stator_winding</th>\n",
       "      <th>profile_id</th>\n",
       "    </tr>\n",
       "  </thead>\n",
       "  <tbody>\n",
       "    <tr>\n",
       "      <th>0</th>\n",
       "      <td>-0.752143</td>\n",
       "      <td>-1.118446</td>\n",
       "      <td>0.327935</td>\n",
       "      <td>-1.297858</td>\n",
       "      <td>-1.222428</td>\n",
       "      <td>-0.250182</td>\n",
       "      <td>1.029572</td>\n",
       "      <td>-0.245860</td>\n",
       "      <td>-2.522071</td>\n",
       "      <td>-1.831422</td>\n",
       "      <td>-2.066143</td>\n",
       "      <td>-2.018033</td>\n",
       "      <td>4</td>\n",
       "    </tr>\n",
       "    <tr>\n",
       "      <th>1</th>\n",
       "      <td>-0.771263</td>\n",
       "      <td>-1.117021</td>\n",
       "      <td>0.329665</td>\n",
       "      <td>-1.297686</td>\n",
       "      <td>-1.222429</td>\n",
       "      <td>-0.249133</td>\n",
       "      <td>1.029509</td>\n",
       "      <td>-0.245832</td>\n",
       "      <td>-2.522418</td>\n",
       "      <td>-1.830969</td>\n",
       "      <td>-2.064859</td>\n",
       "      <td>-2.017631</td>\n",
       "      <td>4</td>\n",
       "    </tr>\n",
       "    <tr>\n",
       "      <th>2</th>\n",
       "      <td>-0.782892</td>\n",
       "      <td>-1.116681</td>\n",
       "      <td>0.332771</td>\n",
       "      <td>-1.301822</td>\n",
       "      <td>-1.222428</td>\n",
       "      <td>-0.249431</td>\n",
       "      <td>1.029448</td>\n",
       "      <td>-0.245818</td>\n",
       "      <td>-2.522673</td>\n",
       "      <td>-1.830400</td>\n",
       "      <td>-2.064073</td>\n",
       "      <td>-2.017343</td>\n",
       "      <td>4</td>\n",
       "    </tr>\n",
       "    <tr>\n",
       "      <th>3</th>\n",
       "      <td>-0.780935</td>\n",
       "      <td>-1.116764</td>\n",
       "      <td>0.333700</td>\n",
       "      <td>-1.301852</td>\n",
       "      <td>-1.222430</td>\n",
       "      <td>-0.248636</td>\n",
       "      <td>1.032845</td>\n",
       "      <td>-0.246955</td>\n",
       "      <td>-2.521639</td>\n",
       "      <td>-1.830333</td>\n",
       "      <td>-2.063137</td>\n",
       "      <td>-2.017632</td>\n",
       "      <td>4</td>\n",
       "    </tr>\n",
       "    <tr>\n",
       "      <th>4</th>\n",
       "      <td>-0.774043</td>\n",
       "      <td>-1.116775</td>\n",
       "      <td>0.335206</td>\n",
       "      <td>-1.303118</td>\n",
       "      <td>-1.222429</td>\n",
       "      <td>-0.248701</td>\n",
       "      <td>1.031807</td>\n",
       "      <td>-0.246610</td>\n",
       "      <td>-2.521900</td>\n",
       "      <td>-1.830498</td>\n",
       "      <td>-2.062795</td>\n",
       "      <td>-2.018145</td>\n",
       "      <td>4</td>\n",
       "    </tr>\n",
       "    <tr>\n",
       "      <th>5</th>\n",
       "      <td>-0.762936</td>\n",
       "      <td>-1.116955</td>\n",
       "      <td>0.334901</td>\n",
       "      <td>-1.303017</td>\n",
       "      <td>-1.222429</td>\n",
       "      <td>-0.248197</td>\n",
       "      <td>1.031031</td>\n",
       "      <td>-0.246341</td>\n",
       "      <td>-2.522203</td>\n",
       "      <td>-1.831931</td>\n",
       "      <td>-2.062549</td>\n",
       "      <td>-2.017884</td>\n",
       "      <td>4</td>\n",
       "    </tr>\n",
       "    <tr>\n",
       "      <th>6</th>\n",
       "      <td>-0.749228</td>\n",
       "      <td>-1.116170</td>\n",
       "      <td>0.335014</td>\n",
       "      <td>-1.302082</td>\n",
       "      <td>-1.222430</td>\n",
       "      <td>-0.247914</td>\n",
       "      <td>1.030493</td>\n",
       "      <td>-0.246162</td>\n",
       "      <td>-2.522538</td>\n",
       "      <td>-1.833012</td>\n",
       "      <td>-2.062115</td>\n",
       "      <td>-2.017243</td>\n",
       "      <td>4</td>\n",
       "    </tr>\n",
       "    <tr>\n",
       "      <th>7</th>\n",
       "      <td>-0.738450</td>\n",
       "      <td>-1.113986</td>\n",
       "      <td>0.336256</td>\n",
       "      <td>-1.305155</td>\n",
       "      <td>-1.222432</td>\n",
       "      <td>-0.248321</td>\n",
       "      <td>1.030107</td>\n",
       "      <td>-0.246035</td>\n",
       "      <td>-2.522844</td>\n",
       "      <td>-1.832182</td>\n",
       "      <td>-2.061953</td>\n",
       "      <td>-2.017213</td>\n",
       "      <td>4</td>\n",
       "    </tr>\n",
       "    <tr>\n",
       "      <th>8</th>\n",
       "      <td>-0.730910</td>\n",
       "      <td>-1.111828</td>\n",
       "      <td>0.334905</td>\n",
       "      <td>-1.303790</td>\n",
       "      <td>-1.222432</td>\n",
       "      <td>-0.247785</td>\n",
       "      <td>1.029851</td>\n",
       "      <td>-0.245981</td>\n",
       "      <td>-2.522808</td>\n",
       "      <td>-1.831576</td>\n",
       "      <td>-2.062443</td>\n",
       "      <td>-2.017739</td>\n",
       "      <td>4</td>\n",
       "    </tr>\n",
       "    <tr>\n",
       "      <th>9</th>\n",
       "      <td>-0.727130</td>\n",
       "      <td>-1.109486</td>\n",
       "      <td>0.335988</td>\n",
       "      <td>-1.305633</td>\n",
       "      <td>-1.222431</td>\n",
       "      <td>-0.248294</td>\n",
       "      <td>1.029636</td>\n",
       "      <td>-0.245888</td>\n",
       "      <td>-2.522677</td>\n",
       "      <td>-1.831438</td>\n",
       "      <td>-2.062317</td>\n",
       "      <td>-2.018180</td>\n",
       "      <td>4</td>\n",
       "    </tr>\n",
       "  </tbody>\n",
       "</table>\n",
       "</div>"
      ],
      "text/plain": [
       "    ambient   coolant       u_d       u_q  motor_speed    torque       i_d  \\\n",
       "0 -0.752143 -1.118446  0.327935 -1.297858    -1.222428 -0.250182  1.029572   \n",
       "1 -0.771263 -1.117021  0.329665 -1.297686    -1.222429 -0.249133  1.029509   \n",
       "2 -0.782892 -1.116681  0.332771 -1.301822    -1.222428 -0.249431  1.029448   \n",
       "3 -0.780935 -1.116764  0.333700 -1.301852    -1.222430 -0.248636  1.032845   \n",
       "4 -0.774043 -1.116775  0.335206 -1.303118    -1.222429 -0.248701  1.031807   \n",
       "5 -0.762936 -1.116955  0.334901 -1.303017    -1.222429 -0.248197  1.031031   \n",
       "6 -0.749228 -1.116170  0.335014 -1.302082    -1.222430 -0.247914  1.030493   \n",
       "7 -0.738450 -1.113986  0.336256 -1.305155    -1.222432 -0.248321  1.030107   \n",
       "8 -0.730910 -1.111828  0.334905 -1.303790    -1.222432 -0.247785  1.029851   \n",
       "9 -0.727130 -1.109486  0.335988 -1.305633    -1.222431 -0.248294  1.029636   \n",
       "\n",
       "        i_q        pm  stator_yoke  stator_tooth  stator_winding  profile_id  \n",
       "0 -0.245860 -2.522071    -1.831422     -2.066143       -2.018033           4  \n",
       "1 -0.245832 -2.522418    -1.830969     -2.064859       -2.017631           4  \n",
       "2 -0.245818 -2.522673    -1.830400     -2.064073       -2.017343           4  \n",
       "3 -0.246955 -2.521639    -1.830333     -2.063137       -2.017632           4  \n",
       "4 -0.246610 -2.521900    -1.830498     -2.062795       -2.018145           4  \n",
       "5 -0.246341 -2.522203    -1.831931     -2.062549       -2.017884           4  \n",
       "6 -0.246162 -2.522538    -1.833012     -2.062115       -2.017243           4  \n",
       "7 -0.246035 -2.522844    -1.832182     -2.061953       -2.017213           4  \n",
       "8 -0.245981 -2.522808    -1.831576     -2.062443       -2.017739           4  \n",
       "9 -0.245888 -2.522677    -1.831438     -2.062317       -2.018180           4  "
      ]
     },
     "execution_count": 45,
     "metadata": {},
     "output_type": "execute_result"
    }
   ],
   "source": [
    "df = pd.read_csv('pmsm_temperature_data.csv')\n",
    "                 \n",
    "df.head(10)"
   ]
  },
  {
   "cell_type": "code",
   "execution_count": 46,
   "metadata": {},
   "outputs": [
    {
     "name": "stdout",
     "output_type": "stream",
     "text": [
      "<class 'pandas.core.frame.DataFrame'>\n",
      "RangeIndex: 998070 entries, 0 to 998069\n",
      "Data columns (total 13 columns):\n",
      " #   Column          Non-Null Count   Dtype  \n",
      "---  ------          --------------   -----  \n",
      " 0   ambient         998070 non-null  float64\n",
      " 1   coolant         998070 non-null  float64\n",
      " 2   u_d             998070 non-null  float64\n",
      " 3   u_q             998070 non-null  float64\n",
      " 4   motor_speed     998070 non-null  float64\n",
      " 5   torque          998070 non-null  float64\n",
      " 6   i_d             998070 non-null  float64\n",
      " 7   i_q             998070 non-null  float64\n",
      " 8   pm              998070 non-null  float64\n",
      " 9   stator_yoke     998070 non-null  float64\n",
      " 10  stator_tooth    998070 non-null  float64\n",
      " 11  stator_winding  998070 non-null  float64\n",
      " 12  profile_id      998070 non-null  int64  \n",
      "dtypes: float64(12), int64(1)\n",
      "memory usage: 99.0 MB\n"
     ]
    },
    {
     "data": {
      "text/plain": [
       "float64    12\n",
       "int64       1\n",
       "dtype: int64"
      ]
     },
     "execution_count": 46,
     "metadata": {},
     "output_type": "execute_result"
    }
   ],
   "source": [
    "df.info()\n",
    "df.dtypes.value_counts()"
   ]
  },
  {
   "cell_type": "code",
   "execution_count": 47,
   "metadata": {},
   "outputs": [
    {
     "data": {
      "text/html": [
       "<div>\n",
       "<style scoped>\n",
       "    .dataframe tbody tr th:only-of-type {\n",
       "        vertical-align: middle;\n",
       "    }\n",
       "\n",
       "    .dataframe tbody tr th {\n",
       "        vertical-align: top;\n",
       "    }\n",
       "\n",
       "    .dataframe thead th {\n",
       "        text-align: right;\n",
       "    }\n",
       "</style>\n",
       "<table border=\"1\" class=\"dataframe\">\n",
       "  <thead>\n",
       "    <tr style=\"text-align: right;\">\n",
       "      <th></th>\n",
       "      <th>ambient</th>\n",
       "      <th>coolant</th>\n",
       "      <th>u_d</th>\n",
       "      <th>u_q</th>\n",
       "      <th>motor_speed</th>\n",
       "      <th>torque</th>\n",
       "      <th>i_d</th>\n",
       "      <th>i_q</th>\n",
       "      <th>pm</th>\n",
       "      <th>stator_yoke</th>\n",
       "      <th>stator_tooth</th>\n",
       "      <th>stator_winding</th>\n",
       "      <th>profile_id</th>\n",
       "    </tr>\n",
       "  </thead>\n",
       "  <tbody>\n",
       "    <tr>\n",
       "      <th>count</th>\n",
       "      <td>998070.000000</td>\n",
       "      <td>998070.000000</td>\n",
       "      <td>998070.000000</td>\n",
       "      <td>998070.000000</td>\n",
       "      <td>998070.000000</td>\n",
       "      <td>998070.000000</td>\n",
       "      <td>998070.000000</td>\n",
       "      <td>998070.000000</td>\n",
       "      <td>998070.000000</td>\n",
       "      <td>998070.000000</td>\n",
       "      <td>998070.000000</td>\n",
       "      <td>998070.000000</td>\n",
       "      <td>998070.000000</td>\n",
       "    </tr>\n",
       "    <tr>\n",
       "      <th>mean</th>\n",
       "      <td>-0.003905</td>\n",
       "      <td>0.004723</td>\n",
       "      <td>0.004780</td>\n",
       "      <td>-0.005690</td>\n",
       "      <td>-0.006336</td>\n",
       "      <td>-0.003333</td>\n",
       "      <td>0.006043</td>\n",
       "      <td>-0.003194</td>\n",
       "      <td>-0.004396</td>\n",
       "      <td>0.000609</td>\n",
       "      <td>-0.002208</td>\n",
       "      <td>-0.003935</td>\n",
       "      <td>50.732001</td>\n",
       "    </tr>\n",
       "    <tr>\n",
       "      <th>std</th>\n",
       "      <td>0.993127</td>\n",
       "      <td>1.002423</td>\n",
       "      <td>0.997878</td>\n",
       "      <td>1.002330</td>\n",
       "      <td>1.001229</td>\n",
       "      <td>0.997907</td>\n",
       "      <td>0.998994</td>\n",
       "      <td>0.997912</td>\n",
       "      <td>0.995686</td>\n",
       "      <td>1.001049</td>\n",
       "      <td>0.999597</td>\n",
       "      <td>0.998343</td>\n",
       "      <td>22.073125</td>\n",
       "    </tr>\n",
       "    <tr>\n",
       "      <th>min</th>\n",
       "      <td>-8.573954</td>\n",
       "      <td>-1.429349</td>\n",
       "      <td>-1.655373</td>\n",
       "      <td>-1.861463</td>\n",
       "      <td>-1.371529</td>\n",
       "      <td>-3.345953</td>\n",
       "      <td>-3.245874</td>\n",
       "      <td>-3.341639</td>\n",
       "      <td>-2.631991</td>\n",
       "      <td>-1.834688</td>\n",
       "      <td>-2.066143</td>\n",
       "      <td>-2.019973</td>\n",
       "      <td>4.000000</td>\n",
       "    </tr>\n",
       "    <tr>\n",
       "      <th>25%</th>\n",
       "      <td>-0.599385</td>\n",
       "      <td>-1.037925</td>\n",
       "      <td>-0.826359</td>\n",
       "      <td>-0.927390</td>\n",
       "      <td>-0.951892</td>\n",
       "      <td>-0.266917</td>\n",
       "      <td>-0.756296</td>\n",
       "      <td>-0.257269</td>\n",
       "      <td>-0.672308</td>\n",
       "      <td>-0.747265</td>\n",
       "      <td>-0.761951</td>\n",
       "      <td>-0.725622</td>\n",
       "      <td>32.000000</td>\n",
       "    </tr>\n",
       "    <tr>\n",
       "      <th>50%</th>\n",
       "      <td>0.266157</td>\n",
       "      <td>-0.177187</td>\n",
       "      <td>0.267542</td>\n",
       "      <td>-0.099818</td>\n",
       "      <td>-0.140246</td>\n",
       "      <td>-0.187246</td>\n",
       "      <td>0.213935</td>\n",
       "      <td>-0.190076</td>\n",
       "      <td>0.094367</td>\n",
       "      <td>-0.057226</td>\n",
       "      <td>0.005085</td>\n",
       "      <td>0.006536</td>\n",
       "      <td>56.000000</td>\n",
       "    </tr>\n",
       "    <tr>\n",
       "      <th>75%</th>\n",
       "      <td>0.686675</td>\n",
       "      <td>0.650709</td>\n",
       "      <td>0.358491</td>\n",
       "      <td>0.852625</td>\n",
       "      <td>0.853584</td>\n",
       "      <td>0.547171</td>\n",
       "      <td>1.013975</td>\n",
       "      <td>0.499260</td>\n",
       "      <td>0.680691</td>\n",
       "      <td>0.697344</td>\n",
       "      <td>0.772239</td>\n",
       "      <td>0.725660</td>\n",
       "      <td>68.000000</td>\n",
       "    </tr>\n",
       "    <tr>\n",
       "      <th>max</th>\n",
       "      <td>2.967117</td>\n",
       "      <td>2.649032</td>\n",
       "      <td>2.274734</td>\n",
       "      <td>1.793498</td>\n",
       "      <td>2.024164</td>\n",
       "      <td>3.016971</td>\n",
       "      <td>1.060937</td>\n",
       "      <td>2.914185</td>\n",
       "      <td>2.917456</td>\n",
       "      <td>2.449158</td>\n",
       "      <td>2.326668</td>\n",
       "      <td>2.653781</td>\n",
       "      <td>81.000000</td>\n",
       "    </tr>\n",
       "  </tbody>\n",
       "</table>\n",
       "</div>"
      ],
      "text/plain": [
       "             ambient        coolant            u_d            u_q  \\\n",
       "count  998070.000000  998070.000000  998070.000000  998070.000000   \n",
       "mean       -0.003905       0.004723       0.004780      -0.005690   \n",
       "std         0.993127       1.002423       0.997878       1.002330   \n",
       "min        -8.573954      -1.429349      -1.655373      -1.861463   \n",
       "25%        -0.599385      -1.037925      -0.826359      -0.927390   \n",
       "50%         0.266157      -0.177187       0.267542      -0.099818   \n",
       "75%         0.686675       0.650709       0.358491       0.852625   \n",
       "max         2.967117       2.649032       2.274734       1.793498   \n",
       "\n",
       "         motor_speed         torque            i_d            i_q  \\\n",
       "count  998070.000000  998070.000000  998070.000000  998070.000000   \n",
       "mean       -0.006336      -0.003333       0.006043      -0.003194   \n",
       "std         1.001229       0.997907       0.998994       0.997912   \n",
       "min        -1.371529      -3.345953      -3.245874      -3.341639   \n",
       "25%        -0.951892      -0.266917      -0.756296      -0.257269   \n",
       "50%        -0.140246      -0.187246       0.213935      -0.190076   \n",
       "75%         0.853584       0.547171       1.013975       0.499260   \n",
       "max         2.024164       3.016971       1.060937       2.914185   \n",
       "\n",
       "                  pm    stator_yoke   stator_tooth  stator_winding  \\\n",
       "count  998070.000000  998070.000000  998070.000000   998070.000000   \n",
       "mean       -0.004396       0.000609      -0.002208       -0.003935   \n",
       "std         0.995686       1.001049       0.999597        0.998343   \n",
       "min        -2.631991      -1.834688      -2.066143       -2.019973   \n",
       "25%        -0.672308      -0.747265      -0.761951       -0.725622   \n",
       "50%         0.094367      -0.057226       0.005085        0.006536   \n",
       "75%         0.680691       0.697344       0.772239        0.725660   \n",
       "max         2.917456       2.449158       2.326668        2.653781   \n",
       "\n",
       "          profile_id  \n",
       "count  998070.000000  \n",
       "mean       50.732001  \n",
       "std        22.073125  \n",
       "min         4.000000  \n",
       "25%        32.000000  \n",
       "50%        56.000000  \n",
       "75%        68.000000  \n",
       "max        81.000000  "
      ]
     },
     "execution_count": 47,
     "metadata": {},
     "output_type": "execute_result"
    }
   ],
   "source": [
    "df.describe()"
   ]
  },
  {
   "cell_type": "code",
   "execution_count": 48,
   "metadata": {},
   "outputs": [
    {
     "data": {
      "text/plain": [
       "ambient           0\n",
       "coolant           0\n",
       "u_d               0\n",
       "u_q               0\n",
       "motor_speed       0\n",
       "torque            0\n",
       "i_d               0\n",
       "i_q               0\n",
       "pm                0\n",
       "stator_yoke       0\n",
       "stator_tooth      0\n",
       "stator_winding    0\n",
       "profile_id        0\n",
       "dtype: int64"
      ]
     },
     "execution_count": 48,
     "metadata": {},
     "output_type": "execute_result"
    }
   ],
   "source": [
    "df.isnull().sum()"
   ]
  },
  {
   "cell_type": "code",
   "execution_count": 49,
   "metadata": {},
   "outputs": [
    {
     "data": {
      "text/plain": [
       "<matplotlib.axes._subplots.AxesSubplot at 0x1fde7b37b48>"
      ]
     },
     "execution_count": 49,
     "metadata": {},
     "output_type": "execute_result"
    },
    {
     "data": {
      "image/png": "[encoded data removed]",
      "text/plain": [
       "<Figure size 432x288 with 2 Axes>"
      ]
     },
     "metadata": {},
     "output_type": "display_data"
    }
   ],
   "source": [
    "sns.heatmap(df.isnull())"
   ]
  },
  {
   "cell_type": "code",
   "execution_count": 54,
   "metadata": {},
   "outputs": [],
   "source": [
    "#sns.set_style(\"whitegrid\")\n",
    "#sns.pairplot(df)"
   ]
  },
  {
   "cell_type": "code",
   "execution_count": 50,
   "metadata": {},
   "outputs": [
    {
     "data": {
      "text/html": [
       "<div>\n",
       "<style scoped>\n",
       "    .dataframe tbody tr th:only-of-type {\n",
       "        vertical-align: middle;\n",
       "    }\n",
       "\n",
       "    .dataframe tbody tr th {\n",
       "        vertical-align: top;\n",
       "    }\n",
       "\n",
       "    .dataframe thead th {\n",
       "        text-align: right;\n",
       "    }\n",
       "</style>\n",
       "<table border=\"1\" class=\"dataframe\">\n",
       "  <thead>\n",
       "    <tr style=\"text-align: right;\">\n",
       "      <th></th>\n",
       "      <th>ambient</th>\n",
       "      <th>coolant</th>\n",
       "      <th>u_d</th>\n",
       "      <th>u_q</th>\n",
       "      <th>motor_speed</th>\n",
       "      <th>torque</th>\n",
       "      <th>i_d</th>\n",
       "      <th>i_q</th>\n",
       "      <th>pm</th>\n",
       "      <th>stator_yoke</th>\n",
       "      <th>stator_tooth</th>\n",
       "      <th>stator_winding</th>\n",
       "      <th>profile_id</th>\n",
       "    </tr>\n",
       "  </thead>\n",
       "  <tbody>\n",
       "    <tr>\n",
       "      <th>ambient</th>\n",
       "      <td>1.000000</td>\n",
       "      <td>0.434435</td>\n",
       "      <td>0.194754</td>\n",
       "      <td>0.087430</td>\n",
       "      <td>0.078283</td>\n",
       "      <td>-0.262264</td>\n",
       "      <td>0.005605</td>\n",
       "      <td>-0.260562</td>\n",
       "      <td>0.501496</td>\n",
       "      <td>0.451616</td>\n",
       "      <td>0.396742</td>\n",
       "      <td>0.301883</td>\n",
       "      <td>0.384565</td>\n",
       "    </tr>\n",
       "    <tr>\n",
       "      <th>coolant</th>\n",
       "      <td>0.434435</td>\n",
       "      <td>1.000000</td>\n",
       "      <td>0.178708</td>\n",
       "      <td>0.027851</td>\n",
       "      <td>-0.033332</td>\n",
       "      <td>-0.189617</td>\n",
       "      <td>0.108489</td>\n",
       "      <td>-0.186060</td>\n",
       "      <td>0.430548</td>\n",
       "      <td>0.874037</td>\n",
       "      <td>0.689003</td>\n",
       "      <td>0.509298</td>\n",
       "      <td>0.499669</td>\n",
       "    </tr>\n",
       "    <tr>\n",
       "      <th>u_d</th>\n",
       "      <td>0.194754</td>\n",
       "      <td>0.178708</td>\n",
       "      <td>1.000000</td>\n",
       "      <td>-0.027472</td>\n",
       "      <td>-0.233828</td>\n",
       "      <td>-0.821325</td>\n",
       "      <td>0.358517</td>\n",
       "      <td>-0.796586</td>\n",
       "      <td>-0.082564</td>\n",
       "      <td>0.041428</td>\n",
       "      <td>-0.066256</td>\n",
       "      <td>-0.150714</td>\n",
       "      <td>0.300771</td>\n",
       "    </tr>\n",
       "    <tr>\n",
       "      <th>u_q</th>\n",
       "      <td>0.087430</td>\n",
       "      <td>0.027851</td>\n",
       "      <td>-0.027472</td>\n",
       "      <td>1.000000</td>\n",
       "      <td>0.716897</td>\n",
       "      <td>-0.037262</td>\n",
       "      <td>-0.181855</td>\n",
       "      <td>-0.026348</td>\n",
       "      <td>0.101236</td>\n",
       "      <td>0.106186</td>\n",
       "      <td>0.149017</td>\n",
       "      <td>0.125445</td>\n",
       "      <td>-0.122260</td>\n",
       "    </tr>\n",
       "    <tr>\n",
       "      <th>motor_speed</th>\n",
       "      <td>0.078283</td>\n",
       "      <td>-0.033332</td>\n",
       "      <td>-0.233828</td>\n",
       "      <td>0.716897</td>\n",
       "      <td>1.000000</td>\n",
       "      <td>0.024517</td>\n",
       "      <td>-0.722914</td>\n",
       "      <td>0.006323</td>\n",
       "      <td>0.332419</td>\n",
       "      <td>0.182564</td>\n",
       "      <td>0.333909</td>\n",
       "      <td>0.393154</td>\n",
       "      <td>-0.166225</td>\n",
       "    </tr>\n",
       "    <tr>\n",
       "      <th>torque</th>\n",
       "      <td>-0.262264</td>\n",
       "      <td>-0.189617</td>\n",
       "      <td>-0.821325</td>\n",
       "      <td>-0.037262</td>\n",
       "      <td>0.024517</td>\n",
       "      <td>1.000000</td>\n",
       "      <td>-0.239059</td>\n",
       "      <td>0.996560</td>\n",
       "      <td>-0.072905</td>\n",
       "      <td>-0.092207</td>\n",
       "      <td>-0.011055</td>\n",
       "      <td>0.080981</td>\n",
       "      <td>-0.257446</td>\n",
       "    </tr>\n",
       "    <tr>\n",
       "      <th>i_d</th>\n",
       "      <td>0.005605</td>\n",
       "      <td>0.108489</td>\n",
       "      <td>0.358517</td>\n",
       "      <td>-0.181855</td>\n",
       "      <td>-0.722914</td>\n",
       "      <td>-0.239059</td>\n",
       "      <td>1.000000</td>\n",
       "      <td>-0.204230</td>\n",
       "      <td>-0.299227</td>\n",
       "      <td>-0.179903</td>\n",
       "      <td>-0.387712</td>\n",
       "      <td>-0.539924</td>\n",
       "      <td>0.142368</td>\n",
       "    </tr>\n",
       "    <tr>\n",
       "      <th>i_q</th>\n",
       "      <td>-0.260562</td>\n",
       "      <td>-0.186060</td>\n",
       "      <td>-0.796586</td>\n",
       "      <td>-0.026348</td>\n",
       "      <td>0.006323</td>\n",
       "      <td>0.996560</td>\n",
       "      <td>-0.204230</td>\n",
       "      <td>1.000000</td>\n",
       "      <td>-0.086486</td>\n",
       "      <td>-0.098753</td>\n",
       "      <td>-0.025191</td>\n",
       "      <td>0.060949</td>\n",
       "      <td>-0.256127</td>\n",
       "    </tr>\n",
       "    <tr>\n",
       "      <th>pm</th>\n",
       "      <td>0.501496</td>\n",
       "      <td>0.430548</td>\n",
       "      <td>-0.082564</td>\n",
       "      <td>0.101236</td>\n",
       "      <td>0.332419</td>\n",
       "      <td>-0.072905</td>\n",
       "      <td>-0.299227</td>\n",
       "      <td>-0.086486</td>\n",
       "      <td>1.000000</td>\n",
       "      <td>0.695014</td>\n",
       "      <td>0.768352</td>\n",
       "      <td>0.729561</td>\n",
       "      <td>0.156735</td>\n",
       "    </tr>\n",
       "    <tr>\n",
       "      <th>stator_yoke</th>\n",
       "      <td>0.451616</td>\n",
       "      <td>0.874037</td>\n",
       "      <td>0.041428</td>\n",
       "      <td>0.106186</td>\n",
       "      <td>0.182564</td>\n",
       "      <td>-0.092207</td>\n",
       "      <td>-0.179903</td>\n",
       "      <td>-0.098753</td>\n",
       "      <td>0.695014</td>\n",
       "      <td>1.000000</td>\n",
       "      <td>0.949898</td>\n",
       "      <td>0.845144</td>\n",
       "      <td>0.398021</td>\n",
       "    </tr>\n",
       "    <tr>\n",
       "      <th>stator_tooth</th>\n",
       "      <td>0.396742</td>\n",
       "      <td>0.689003</td>\n",
       "      <td>-0.066256</td>\n",
       "      <td>0.149017</td>\n",
       "      <td>0.333909</td>\n",
       "      <td>-0.011055</td>\n",
       "      <td>-0.387712</td>\n",
       "      <td>-0.025191</td>\n",
       "      <td>0.768352</td>\n",
       "      <td>0.949898</td>\n",
       "      <td>1.000000</td>\n",
       "      <td>0.965633</td>\n",
       "      <td>0.280994</td>\n",
       "    </tr>\n",
       "    <tr>\n",
       "      <th>stator_winding</th>\n",
       "      <td>0.301883</td>\n",
       "      <td>0.509298</td>\n",
       "      <td>-0.150714</td>\n",
       "      <td>0.125445</td>\n",
       "      <td>0.393154</td>\n",
       "      <td>0.080981</td>\n",
       "      <td>-0.539924</td>\n",
       "      <td>0.060949</td>\n",
       "      <td>0.729561</td>\n",
       "      <td>0.845144</td>\n",
       "      <td>0.965633</td>\n",
       "      <td>1.000000</td>\n",
       "      <td>0.181908</td>\n",
       "    </tr>\n",
       "    <tr>\n",
       "      <th>profile_id</th>\n",
       "      <td>0.384565</td>\n",
       "      <td>0.499669</td>\n",
       "      <td>0.300771</td>\n",
       "      <td>-0.122260</td>\n",
       "      <td>-0.166225</td>\n",
       "      <td>-0.257446</td>\n",
       "      <td>0.142368</td>\n",
       "      <td>-0.256127</td>\n",
       "      <td>0.156735</td>\n",
       "      <td>0.398021</td>\n",
       "      <td>0.280994</td>\n",
       "      <td>0.181908</td>\n",
       "      <td>1.000000</td>\n",
       "    </tr>\n",
       "  </tbody>\n",
       "</table>\n",
       "</div>"
      ],
      "text/plain": [
       "                 ambient   coolant       u_d       u_q  motor_speed    torque  \\\n",
       "ambient         1.000000  0.434435  0.194754  0.087430     0.078283 -0.262264   \n",
       "coolant         0.434435  1.000000  0.178708  0.027851    -0.033332 -0.189617   \n",
       "u_d             0.194754  0.178708  1.000000 -0.027472    -0.233828 -0.821325   \n",
       "u_q             0.087430  0.027851 -0.027472  1.000000     0.716897 -0.037262   \n",
       "motor_speed     0.078283 -0.033332 -0.233828  0.716897     1.000000  0.024517   \n",
       "torque         -0.262264 -0.189617 -0.821325 -0.037262     0.024517  1.000000   \n",
       "i_d             0.005605  0.108489  0.358517 -0.181855    -0.722914 -0.239059   \n",
       "i_q            -0.260562 -0.186060 -0.796586 -0.026348     0.006323  0.996560   \n",
       "pm              0.501496  0.430548 -0.082564  0.101236     0.332419 -0.072905   \n",
       "stator_yoke     0.451616  0.874037  0.041428  0.106186     0.182564 -0.092207   \n",
       "stator_tooth    0.396742  0.689003 -0.066256  0.149017     0.333909 -0.011055   \n",
       "stator_winding  0.301883  0.509298 -0.150714  0.125445     0.393154  0.080981   \n",
       "profile_id      0.384565  0.499669  0.300771 -0.122260    -0.166225 -0.257446   \n",
       "\n",
       "                     i_d       i_q        pm  stator_yoke  stator_tooth  \\\n",
       "ambient         0.005605 -0.260562  0.501496     0.451616      0.396742   \n",
       "coolant         0.108489 -0.186060  0.430548     0.874037      0.689003   \n",
       "u_d             0.358517 -0.796586 -0.082564     0.041428     -0.066256   \n",
       "u_q            -0.181855 -0.026348  0.101236     0.106186      0.149017   \n",
       "motor_speed    -0.722914  0.006323  0.332419     0.182564      0.333909   \n",
       "torque         -0.239059  0.996560 -0.072905    -0.092207     -0.011055   \n",
       "i_d             1.000000 -0.204230 -0.299227    -0.179903     -0.387712   \n",
       "i_q            -0.204230  1.000000 -0.086486    -0.098753     -0.025191   \n",
       "pm             -0.299227 -0.086486  1.000000     0.695014      0.768352   \n",
       "stator_yoke    -0.179903 -0.098753  0.695014     1.000000      0.949898   \n",
       "stator_tooth   -0.387712 -0.025191  0.768352     0.949898      1.000000   \n",
       "stator_winding -0.539924  0.060949  0.729561     0.845144      0.965633   \n",
       "profile_id      0.142368 -0.256127  0.156735     0.398021      0.280994   \n",
       "\n",
       "                stator_winding  profile_id  \n",
       "ambient               0.301883    0.384565  \n",
       "coolant               0.509298    0.499669  \n",
       "u_d                  -0.150714    0.300771  \n",
       "u_q                   0.125445   -0.122260  \n",
       "motor_speed           0.393154   -0.166225  \n",
       "torque                0.080981   -0.257446  \n",
       "i_d                  -0.539924    0.142368  \n",
       "i_q                   0.060949   -0.256127  \n",
       "pm                    0.729561    0.156735  \n",
       "stator_yoke           0.845144    0.398021  \n",
       "stator_tooth          0.965633    0.280994  \n",
       "stator_winding        1.000000    0.181908  \n",
       "profile_id            0.181908    1.000000  "
      ]
     },
     "execution_count": 50,
     "metadata": {},
     "output_type": "execute_result"
    }
   ],
   "source": [
    "df.corr()"
   ]
  },
  {
   "cell_type": "code",
   "execution_count": 53,
   "metadata": {},
   "outputs": [
    {
     "data": {
      "text/plain": [
       "<seaborn.axisgrid.JointGrid at 0x1fde7c17308>"
      ]
     },
     "execution_count": 53,
     "metadata": {},
     "output_type": "execute_result"
    },
    {
     "data": {
      "image/png": "[encoded data removed]",
      "text/plain": [
       "<Figure size 432x432 with 3 Axes>"
      ]
     },
     "metadata": {},
     "output_type": "display_data"
    }
   ],
   "source": [
    "sns.jointplot(x='i_d', y='motor_speed', data=df, kind='reg')"
   ]
  },
  {
   "cell_type": "code",
   "execution_count": 55,
   "metadata": {},
   "outputs": [
    {
     "data": {
      "image/png": "[encoded data removed]",
      "text/plain": [
       "<Figure size 864x864 with 2 Axes>"
      ]
     },
     "metadata": {},
     "output_type": "display_data"
    }
   ],
   "source": [
    "#correlation map\n",
    "f,ax=plt.subplots(figsize=(12,12))\n",
    "corr=df.corr()\n",
    "\n",
    "sns.heatmap(corr, annot=True, linewidths=.5, fmt='.2f', \n",
    "            mask= np.zeros_like(corr,dtype=np.bool), \n",
    "            cmap=sns.diverging_palette(100,200,as_cmap=True), \n",
    "            square=True, ax=ax)\n",
    "\n",
    "plt.show()"
   ]
  },
  {
   "cell_type": "markdown",
   "metadata": {},
   "source": [
    "There are high correlation between values."
   ]
  },
  {
   "cell_type": "markdown",
   "metadata": {},
   "source": [
    "<a id= \"1\" ></a><br>**BASIC LINEAR REGRESSION**"
   ]
  },
  {
   "cell_type": "code",
   "execution_count": 57,
   "metadata": {},
   "outputs": [],
   "source": [
    "import statsmodels.api as sm"
   ]
  },
  {
   "cell_type": "code",
   "execution_count": 76,
   "metadata": {},
   "outputs": [],
   "source": [
    "#Defining dependent and independent variable\n",
    "X = df['i_d']\n",
    "X=sm.add_constant(X)\n",
    "\n",
    "y = df['motor_speed']"
   ]
  },
  {
   "cell_type": "code",
   "execution_count": 77,
   "metadata": {},
   "outputs": [
    {
     "data": {
      "text/html": [
       "<table class=\"simpletable\">\n",
       "<caption>OLS Regression Results</caption>\n",
       "<tr>\n",
       "  <th>Dep. Variable:</th>       <td>motor_speed</td>   <th>  R-squared:         </th>  <td>   0.523</td>  \n",
       "</tr>\n",
       "<tr>\n",
       "  <th>Model:</th>                   <td>OLS</td>       <th>  Adj. R-squared:    </th>  <td>   0.523</td>  \n",
       "</tr>\n",
       "<tr>\n",
       "  <th>Method:</th>             <td>Least Squares</td>  <th>  F-statistic:       </th>  <td>1.093e+06</td> \n",
       "</tr>\n",
       "<tr>\n",
       "  <th>Date:</th>             <td>Wed, 01 Jul 2020</td> <th>  Prob (F-statistic):</th>   <td>  0.00</td>   \n",
       "</tr>\n",
       "<tr>\n",
       "  <th>Time:</th>                 <td>20:01:50</td>     <th>  Log-Likelihood:    </th> <td>-1.0484e+06</td>\n",
       "</tr>\n",
       "<tr>\n",
       "  <th>No. Observations:</th>      <td>998070</td>      <th>  AIC:               </th>  <td>2.097e+06</td> \n",
       "</tr>\n",
       "<tr>\n",
       "  <th>Df Residuals:</th>          <td>998068</td>      <th>  BIC:               </th>  <td>2.097e+06</td> \n",
       "</tr>\n",
       "<tr>\n",
       "  <th>Df Model:</th>              <td>     1</td>      <th>                     </th>      <td> </td>     \n",
       "</tr>\n",
       "<tr>\n",
       "  <th>Covariance Type:</th>      <td>nonrobust</td>    <th>                     </th>      <td> </td>     \n",
       "</tr>\n",
       "</table>\n",
       "<table class=\"simpletable\">\n",
       "<tr>\n",
       "    <td></td>       <th>coef</th>     <th>std err</th>      <th>t</th>      <th>P>|t|</th>  <th>[0.025</th>    <th>0.975]</th>  \n",
       "</tr>\n",
       "<tr>\n",
       "  <th>const</th> <td>   -0.0020</td> <td>    0.001</td> <td>   -2.826</td> <td> 0.005</td> <td>   -0.003</td> <td>   -0.001</td>\n",
       "</tr>\n",
       "<tr>\n",
       "  <th>i_d</th>   <td>   -0.7245</td> <td>    0.001</td> <td>-1045.267</td> <td> 0.000</td> <td>   -0.726</td> <td>   -0.723</td>\n",
       "</tr>\n",
       "</table>\n",
       "<table class=\"simpletable\">\n",
       "<tr>\n",
       "  <th>Omnibus:</th>       <td>7561.278</td> <th>  Durbin-Watson:     </th> <td>   0.003</td>\n",
       "</tr>\n",
       "<tr>\n",
       "  <th>Prob(Omnibus):</th>  <td> 0.000</td>  <th>  Jarque-Bera (JB):  </th> <td>5931.452</td>\n",
       "</tr>\n",
       "<tr>\n",
       "  <th>Skew:</th>           <td>-0.109</td>  <th>  Prob(JB):          </th> <td>    0.00</td>\n",
       "</tr>\n",
       "<tr>\n",
       "  <th>Kurtosis:</th>       <td> 2.691</td>  <th>  Cond. No.          </th> <td>    1.01</td>\n",
       "</tr>\n",
       "</table><br/><br/>Warnings:<br/>[1] Standard Errors assume that the covariance matrix of the errors is correctly specified."
      ],
      "text/plain": [
       "<class 'statsmodels.iolib.summary.Summary'>\n",
       "\"\"\"\n",
       "                            OLS Regression Results                            \n",
       "==============================================================================\n",
       "Dep. Variable:            motor_speed   R-squared:                       0.523\n",
       "Model:                            OLS   Adj. R-squared:                  0.523\n",
       "Method:                 Least Squares   F-statistic:                 1.093e+06\n",
       "Date:                Wed, 01 Jul 2020   Prob (F-statistic):               0.00\n",
       "Time:                        20:01:50   Log-Likelihood:            -1.0484e+06\n",
       "No. Observations:              998070   AIC:                         2.097e+06\n",
       "Df Residuals:                  998068   BIC:                         2.097e+06\n",
       "Df Model:                           1                                         \n",
       "Covariance Type:            nonrobust                                         \n",
       "==============================================================================\n",
       "                 coef    std err          t      P>|t|      [0.025      0.975]\n",
       "------------------------------------------------------------------------------\n",
       "const         -0.0020      0.001     -2.826      0.005      -0.003      -0.001\n",
       "i_d           -0.7245      0.001  -1045.267      0.000      -0.726      -0.723\n",
       "==============================================================================\n",
       "Omnibus:                     7561.278   Durbin-Watson:                   0.003\n",
       "Prob(Omnibus):                  0.000   Jarque-Bera (JB):             5931.452\n",
       "Skew:                          -0.109   Prob(JB):                         0.00\n",
       "Kurtosis:                       2.691   Cond. No.                         1.01\n",
       "==============================================================================\n",
       "\n",
       "Warnings:\n",
       "[1] Standard Errors assume that the covariance matrix of the errors is correctly specified.\n",
       "\"\"\""
      ]
     },
     "execution_count": 77,
     "metadata": {},
     "output_type": "execute_result"
    }
   ],
   "source": [
    "lm=sm.OLS(y,X)\n",
    "model=lm.fit()\n",
    "\n",
    "model.summary()"
   ]
  },
  {
   "cell_type": "code",
   "execution_count": 62,
   "metadata": {},
   "outputs": [
    {
     "data": {
      "text/plain": [
       "const   -0.001957\n",
       "i_d     -0.724531\n",
       "dtype: float64"
      ]
     },
     "execution_count": 62,
     "metadata": {},
     "output_type": "execute_result"
    }
   ],
   "source": [
    "model.params"
   ]
  },
  {
   "cell_type": "code",
   "execution_count": 64,
   "metadata": {},
   "outputs": [
    {
     "data": {
      "text/plain": [
       "522878.4007176551"
      ]
     },
     "execution_count": 64,
     "metadata": {},
     "output_type": "execute_result"
    }
   ],
   "source": [
    "model.mse_model #mean squared error is too much. It is not good."
   ]
  },
  {
   "cell_type": "code",
   "execution_count": 65,
   "metadata": {},
   "outputs": [
    {
     "data": {
      "text/plain": [
       "0.5226043734324983"
      ]
     },
     "execution_count": 65,
     "metadata": {},
     "output_type": "execute_result"
    }
   ],
   "source": [
    "model.rsquared #Not bad"
   ]
  },
  {
   "cell_type": "code",
   "execution_count": 66,
   "metadata": {},
   "outputs": [
    {
     "data": {
      "text/plain": [
       "0.522603895112758"
      ]
     },
     "execution_count": 66,
     "metadata": {},
     "output_type": "execute_result"
    }
   ],
   "source": [
    "model.rsquared_adj #Not bad"
   ]
  },
  {
   "cell_type": "code",
   "execution_count": 67,
   "metadata": {},
   "outputs": [
    {
     "data": {
      "text/plain": [
       "0   -0.747914\n",
       "1   -0.747869\n",
       "2   -0.747824\n",
       "3   -0.750285\n",
       "4   -0.749534\n",
       "dtype: float64"
      ]
     },
     "execution_count": 67,
     "metadata": {},
     "output_type": "execute_result"
    }
   ],
   "source": [
    "model.fittedvalues[0:5] #Predicted values"
   ]
  },
  {
   "cell_type": "code",
   "execution_count": 68,
   "metadata": {},
   "outputs": [
    {
     "data": {
      "text/plain": [
       "0   -1.222428\n",
       "1   -1.222429\n",
       "2   -1.222428\n",
       "3   -1.222430\n",
       "4   -1.222429\n",
       "Name: motor_speed, dtype: float64"
      ]
     },
     "execution_count": 68,
     "metadata": {},
     "output_type": "execute_result"
    }
   ],
   "source": [
    "y[0:5] #Real values"
   ]
  },
  {
   "cell_type": "code",
   "execution_count": 69,
   "metadata": {},
   "outputs": [
    {
     "name": "stdout",
     "output_type": "stream",
     "text": [
      "Motor speed = -0.002 + i_d*-0.725\n"
     ]
    }
   ],
   "source": [
    "#Model equation\n",
    "print(\"Motor speed = \" + \n",
    "      str(\"%.3f\" % model.params[0]) + ' + i_d' + \"*\" + \n",
    "      str(\"%.3f\" % model.params[1]))"
   ]
  },
  {
   "cell_type": "code",
   "execution_count": 70,
   "metadata": {},
   "outputs": [
    {
     "data": {
      "image/png": "[encoded data removed]",
      "text/plain": [
       "<Figure size 432x288 with 1 Axes>"
      ]
     },
     "metadata": {},
     "output_type": "display_data"
    }
   ],
   "source": [
    "#Model Visualization \n",
    "g=sns.regplot(df['i_d'] , df['motor_speed'], \n",
    "              ci=None, scatter_kws={'color': 'r', 's':9})\n",
    "g.set_title('Model equation: motor_speed = -0.002 + i_d * -0.725')\n",
    "g.set_ylabel('Motor_speed')\n",
    "g.set_xlabel('i_d');"
   ]
  },
  {
   "cell_type": "code",
   "execution_count": 71,
   "metadata": {},
   "outputs": [],
   "source": [
    "from sklearn.metrics import r2_score,mean_squared_error"
   ]
  },
  {
   "cell_type": "code",
   "execution_count": 72,
   "metadata": {},
   "outputs": [
    {
     "data": {
      "text/plain": [
       "0.6917872418443057"
      ]
     },
     "execution_count": 72,
     "metadata": {},
     "output_type": "execute_result"
    }
   ],
   "source": [
    "mse=mean_squared_error(y, model.fittedvalues)\n",
    "rmse=np.sqrt(mse)\n",
    "rmse"
   ]
  },
  {
   "cell_type": "code",
   "execution_count": 73,
   "metadata": {},
   "outputs": [
    {
     "data": {
      "text/html": [
       "<div>\n",
       "<style scoped>\n",
       "    .dataframe tbody tr th:only-of-type {\n",
       "        vertical-align: middle;\n",
       "    }\n",
       "\n",
       "    .dataframe tbody tr th {\n",
       "        vertical-align: top;\n",
       "    }\n",
       "\n",
       "    .dataframe thead th {\n",
       "        text-align: right;\n",
       "    }\n",
       "</style>\n",
       "<table border=\"1\" class=\"dataframe\">\n",
       "  <thead>\n",
       "    <tr style=\"text-align: right;\">\n",
       "      <th></th>\n",
       "      <th>Real_values</th>\n",
       "      <th>Predicted_values</th>\n",
       "      <th>error</th>\n",
       "    </tr>\n",
       "  </thead>\n",
       "  <tbody>\n",
       "    <tr>\n",
       "      <th>0</th>\n",
       "      <td>-1.222428</td>\n",
       "      <td>-0.747914</td>\n",
       "      <td>-0.474514</td>\n",
       "    </tr>\n",
       "    <tr>\n",
       "      <th>1</th>\n",
       "      <td>-1.222429</td>\n",
       "      <td>-0.747869</td>\n",
       "      <td>-0.474561</td>\n",
       "    </tr>\n",
       "    <tr>\n",
       "      <th>2</th>\n",
       "      <td>-1.222428</td>\n",
       "      <td>-0.747824</td>\n",
       "      <td>-0.474604</td>\n",
       "    </tr>\n",
       "    <tr>\n",
       "      <th>3</th>\n",
       "      <td>-1.222430</td>\n",
       "      <td>-0.750285</td>\n",
       "      <td>-0.472145</td>\n",
       "    </tr>\n",
       "    <tr>\n",
       "      <th>4</th>\n",
       "      <td>-1.222429</td>\n",
       "      <td>-0.749534</td>\n",
       "      <td>-0.472895</td>\n",
       "    </tr>\n",
       "  </tbody>\n",
       "</table>\n",
       "</div>"
      ],
      "text/plain": [
       "   Real_values  Predicted_values     error\n",
       "0    -1.222428         -0.747914 -0.474514\n",
       "1    -1.222429         -0.747869 -0.474561\n",
       "2    -1.222428         -0.747824 -0.474604\n",
       "3    -1.222430         -0.750285 -0.472145\n",
       "4    -1.222429         -0.749534 -0.472895"
      ]
     },
     "execution_count": 73,
     "metadata": {},
     "output_type": "execute_result"
    }
   ],
   "source": [
    "k_t=pd.DataFrame({'Real_values':y[0:50], \n",
    "                  'Predicted_values' :model.fittedvalues[0:50]})\n",
    "k_t['error']=k_t['Real_values']-k_t['Predicted_values']\n",
    "k_t.head()"
   ]
  },
  {
   "cell_type": "code",
   "execution_count": 74,
   "metadata": {},
   "outputs": [
    {
     "data": {
      "text/plain": [
       "0   -0.474514\n",
       "1   -0.474561\n",
       "2   -0.474604\n",
       "3   -0.472145\n",
       "4   -0.472895\n",
       "5   -0.473457\n",
       "6   -0.473848\n",
       "7   -0.474130\n",
       "8   -0.474315\n",
       "9   -0.474471\n",
       "dtype: float64"
      ]
     },
     "execution_count": 74,
     "metadata": {},
     "output_type": "execute_result"
    }
   ],
   "source": [
    "model.resid[0:10] #It is easy way to learn residuals."
   ]
  },
  {
   "cell_type": "code",
   "execution_count": 75,
   "metadata": {},
   "outputs": [
    {
     "data": {
      "image/png": "[encoded data removed]",
      "text/plain": [
       "<Figure size 432x288 with 1 Axes>"
      ]
     },
     "metadata": {},
     "output_type": "display_data"
    }
   ],
   "source": [
    "plt.plot(model.resid);"
   ]
  },
  {
   "cell_type": "markdown",
   "metadata": {},
   "source": [
    "<a id= \"2\" ></a><br>**MULTIPLE LINEAR REGRESSION**"
   ]
  },
  {
   "cell_type": "code",
   "execution_count": 79,
   "metadata": {},
   "outputs": [],
   "source": [
    "X=df.drop(\"motor_speed\", axis=1)\n",
    "y=df[\"motor_speed\"]"
   ]
  },
  {
   "cell_type": "code",
   "execution_count": 80,
   "metadata": {},
   "outputs": [],
   "source": [
    "from sklearn.model_selection import train_test_split,cross_val_score,cross_val_predict\n"
   ]
  },
  {
   "cell_type": "code",
   "execution_count": 81,
   "metadata": {},
   "outputs": [],
   "source": [
    "X_train,X_test,y_train,y_test=train_test_split(X,y,test_size=0.2, random_state=42)\n",
    "\n",
    "training=df.copy()"
   ]
  },
  {
   "cell_type": "code",
   "execution_count": 82,
   "metadata": {},
   "outputs": [
    {
     "data": {
      "text/html": [
       "<table class=\"simpletable\">\n",
       "<caption>OLS Regression Results</caption>\n",
       "<tr>\n",
       "  <th>Dep. Variable:</th>       <td>motor_speed</td>   <th>  R-squared (uncentered):</th>      <td>   0.928</td> \n",
       "</tr>\n",
       "<tr>\n",
       "  <th>Model:</th>                   <td>OLS</td>       <th>  Adj. R-squared (uncentered):</th> <td>   0.928</td> \n",
       "</tr>\n",
       "<tr>\n",
       "  <th>Method:</th>             <td>Least Squares</td>  <th>  F-statistic:       </th>          <td>8.582e+05</td>\n",
       "</tr>\n",
       "<tr>\n",
       "  <th>Date:</th>             <td>Wed, 01 Jul 2020</td> <th>  Prob (F-statistic):</th>           <td>  0.00</td>  \n",
       "</tr>\n",
       "<tr>\n",
       "  <th>Time:</th>                 <td>20:10:07</td>     <th>  Log-Likelihood:    </th>          <td> -83308.</td> \n",
       "</tr>\n",
       "<tr>\n",
       "  <th>No. Observations:</th>      <td>798456</td>      <th>  AIC:               </th>          <td>1.666e+05</td>\n",
       "</tr>\n",
       "<tr>\n",
       "  <th>Df Residuals:</th>          <td>798444</td>      <th>  BIC:               </th>          <td>1.668e+05</td>\n",
       "</tr>\n",
       "<tr>\n",
       "  <th>Df Model:</th>              <td>    12</td>      <th>                     </th>              <td> </td>    \n",
       "</tr>\n",
       "<tr>\n",
       "  <th>Covariance Type:</th>      <td>nonrobust</td>    <th>                     </th>              <td> </td>    \n",
       "</tr>\n",
       "</table>\n",
       "<table class=\"simpletable\">\n",
       "<tr>\n",
       "         <td></td>           <th>coef</th>     <th>std err</th>      <th>t</th>      <th>P>|t|</th>  <th>[0.025</th>    <th>0.975]</th>  \n",
       "</tr>\n",
       "<tr>\n",
       "  <th>ambient</th>        <td>   -0.0503</td> <td>    0.000</td> <td> -131.429</td> <td> 0.000</td> <td>   -0.051</td> <td>   -0.050</td>\n",
       "</tr>\n",
       "<tr>\n",
       "  <th>coolant</th>        <td>    0.4091</td> <td>    0.002</td> <td>  218.100</td> <td> 0.000</td> <td>    0.405</td> <td>    0.413</td>\n",
       "</tr>\n",
       "<tr>\n",
       "  <th>u_d</th>            <td>   -0.1657</td> <td>    0.001</td> <td> -254.611</td> <td> 0.000</td> <td>   -0.167</td> <td>   -0.164</td>\n",
       "</tr>\n",
       "<tr>\n",
       "  <th>u_q</th>            <td>    0.5394</td> <td>    0.000</td> <td> 1469.606</td> <td> 0.000</td> <td>    0.539</td> <td>    0.540</td>\n",
       "</tr>\n",
       "<tr>\n",
       "  <th>torque</th>         <td>   -0.3411</td> <td>    0.005</td> <td>  -70.287</td> <td> 0.000</td> <td>   -0.351</td> <td>   -0.332</td>\n",
       "</tr>\n",
       "<tr>\n",
       "  <th>i_d</th>            <td>   -0.6580</td> <td>    0.001</td> <td>-1268.145</td> <td> 0.000</td> <td>   -0.659</td> <td>   -0.657</td>\n",
       "</tr>\n",
       "<tr>\n",
       "  <th>i_q</th>            <td>    0.1352</td> <td>    0.005</td> <td>   29.630</td> <td> 0.000</td> <td>    0.126</td> <td>    0.144</td>\n",
       "</tr>\n",
       "<tr>\n",
       "  <th>pm</th>             <td>    0.1061</td> <td>    0.001</td> <td>  170.646</td> <td> 0.000</td> <td>    0.105</td> <td>    0.107</td>\n",
       "</tr>\n",
       "<tr>\n",
       "  <th>stator_yoke</th>    <td>   -1.6278</td> <td>    0.006</td> <td> -282.304</td> <td> 0.000</td> <td>   -1.639</td> <td>   -1.617</td>\n",
       "</tr>\n",
       "<tr>\n",
       "  <th>stator_tooth</th>   <td>    2.3219</td> <td>    0.008</td> <td>  304.592</td> <td> 0.000</td> <td>    2.307</td> <td>    2.337</td>\n",
       "</tr>\n",
       "<tr>\n",
       "  <th>stator_winding</th> <td>   -1.1714</td> <td>    0.004</td> <td> -310.271</td> <td> 0.000</td> <td>   -1.179</td> <td>   -1.164</td>\n",
       "</tr>\n",
       "<tr>\n",
       "  <th>profile_id</th>     <td>-1.117e-05</td> <td>  5.6e-06</td> <td>   -1.995</td> <td> 0.046</td> <td>-2.22e-05</td> <td>-1.96e-07</td>\n",
       "</tr>\n",
       "</table>\n",
       "<table class=\"simpletable\">\n",
       "<tr>\n",
       "  <th>Omnibus:</th>       <td>43472.517</td> <th>  Durbin-Watson:     </th>  <td>   2.000</td> \n",
       "</tr>\n",
       "<tr>\n",
       "  <th>Prob(Omnibus):</th>  <td> 0.000</td>   <th>  Jarque-Bera (JB):  </th> <td>169112.669</td>\n",
       "</tr>\n",
       "<tr>\n",
       "  <th>Skew:</th>           <td>-0.111</td>   <th>  Prob(JB):          </th>  <td>    0.00</td> \n",
       "</tr>\n",
       "<tr>\n",
       "  <th>Kurtosis:</th>       <td> 5.244</td>   <th>  Cond. No.          </th>  <td>1.82e+03</td> \n",
       "</tr>\n",
       "</table><br/><br/>Warnings:<br/>[1] Standard Errors assume that the covariance matrix of the errors is correctly specified.<br/>[2] The condition number is large, 1.82e+03. This might indicate that there are<br/>strong multicollinearity or other numerical problems."
      ],
      "text/plain": [
       "<class 'statsmodels.iolib.summary.Summary'>\n",
       "\"\"\"\n",
       "                                 OLS Regression Results                                \n",
       "=======================================================================================\n",
       "Dep. Variable:            motor_speed   R-squared (uncentered):                   0.928\n",
       "Model:                            OLS   Adj. R-squared (uncentered):              0.928\n",
       "Method:                 Least Squares   F-statistic:                          8.582e+05\n",
       "Date:                Wed, 01 Jul 2020   Prob (F-statistic):                        0.00\n",
       "Time:                        20:10:07   Log-Likelihood:                         -83308.\n",
       "No. Observations:              798456   AIC:                                  1.666e+05\n",
       "Df Residuals:                  798444   BIC:                                  1.668e+05\n",
       "Df Model:                          12                                                  \n",
       "Covariance Type:            nonrobust                                                  \n",
       "==================================================================================\n",
       "                     coef    std err          t      P>|t|      [0.025      0.975]\n",
       "----------------------------------------------------------------------------------\n",
       "ambient           -0.0503      0.000   -131.429      0.000      -0.051      -0.050\n",
       "coolant            0.4091      0.002    218.100      0.000       0.405       0.413\n",
       "u_d               -0.1657      0.001   -254.611      0.000      -0.167      -0.164\n",
       "u_q                0.5394      0.000   1469.606      0.000       0.539       0.540\n",
       "torque            -0.3411      0.005    -70.287      0.000      -0.351      -0.332\n",
       "i_d               -0.6580      0.001  -1268.145      0.000      -0.659      -0.657\n",
       "i_q                0.1352      0.005     29.630      0.000       0.126       0.144\n",
       "pm                 0.1061      0.001    170.646      0.000       0.105       0.107\n",
       "stator_yoke       -1.6278      0.006   -282.304      0.000      -1.639      -1.617\n",
       "stator_tooth       2.3219      0.008    304.592      0.000       2.307       2.337\n",
       "stator_winding    -1.1714      0.004   -310.271      0.000      -1.179      -1.164\n",
       "profile_id     -1.117e-05    5.6e-06     -1.995      0.046   -2.22e-05   -1.96e-07\n",
       "==============================================================================\n",
       "Omnibus:                    43472.517   Durbin-Watson:                   2.000\n",
       "Prob(Omnibus):                  0.000   Jarque-Bera (JB):           169112.669\n",
       "Skew:                          -0.111   Prob(JB):                         0.00\n",
       "Kurtosis:                       5.244   Cond. No.                     1.82e+03\n",
       "==============================================================================\n",
       "\n",
       "Warnings:\n",
       "[1] Standard Errors assume that the covariance matrix of the errors is correctly specified.\n",
       "[2] The condition number is large, 1.82e+03. This might indicate that there are\n",
       "strong multicollinearity or other numerical problems.\n",
       "\"\"\""
      ]
     },
     "execution_count": 82,
     "metadata": {},
     "output_type": "execute_result"
    }
   ],
   "source": [
    "lm=sm.OLS(y_train, X_train)\n",
    "\n",
    "model=lm.fit()\n",
    "model.summary() #All coefficients are significant for the model by looking at the p-value. ( P>|t| )\n"
   ]
  },
  {
   "cell_type": "code",
   "execution_count": 83,
   "metadata": {},
   "outputs": [
    {
     "data": {
      "text/plain": [
       "0.2685809987166384"
      ]
     },
     "execution_count": 83,
     "metadata": {},
     "output_type": "execute_result"
    }
   ],
   "source": [
    "#Root Mean Squared Error for Train\n",
    "rmse1=np.sqrt(mean_squared_error(y_train,model.predict(X_train)))\n",
    "rmse1"
   ]
  },
  {
   "cell_type": "code",
   "execution_count": 84,
   "metadata": {},
   "outputs": [
    {
     "data": {
      "text/plain": [
       "0.2682375919182859"
      ]
     },
     "execution_count": 84,
     "metadata": {},
     "output_type": "execute_result"
    }
   ],
   "source": [
    "#Root Mean Squared Error for Test\n",
    "rmse2=np.sqrt(mean_squared_error(y_test,model.predict(X_test)))\n",
    "rmse2"
   ]
  },
  {
   "cell_type": "code",
   "execution_count": 86,
   "metadata": {},
   "outputs": [],
   "source": [
    "from sklearn.linear_model import LinearRegression"
   ]
  },
  {
   "cell_type": "code",
   "execution_count": 87,
   "metadata": {},
   "outputs": [
    {
     "name": "stdout",
     "output_type": "stream",
     "text": [
      "Verified R2 value for Training model: 0.9280570425519296\n",
      "Verified R2 value for Testing Model: 0.9281973950061891\n"
     ]
    }
   ],
   "source": [
    "#Model Tuning for Multiple Linear Regression\n",
    "model = LinearRegression().fit(X_train,y_train)\n",
    "cross_val_score1=cross_val_score(model, X_train, y_train, cv=10, scoring='r2').mean() #verified score value for train model\n",
    "print('Verified R2 value for Training model: ' + str(cross_val_score1))\n",
    "\n",
    "cross_val_score2=cross_val_score(model, X_test, y_test, cv=10, scoring='r2').mean() #verified score value for test model\n",
    "print('Verified R2 value for Testing Model: ' + str(cross_val_score2))"
   ]
  },
  {
   "cell_type": "code",
   "execution_count": 88,
   "metadata": {},
   "outputs": [
    {
     "name": "stdout",
     "output_type": "stream",
     "text": [
      "Verified RMSE value for Training model: 0.2685584755640468\n",
      "Verified RMSE value for Testing Model: 0.2682294742267721\n"
     ]
    }
   ],
   "source": [
    "RMSE1=np.sqrt(-cross_val_score(model, X_train, y_train, cv=10, \n",
    "                               scoring='neg_mean_squared_error')).mean() #verified RMSE score value for train model\n",
    "print('Verified RMSE value for Training model: ' + str(RMSE1))\n",
    "\n",
    "RMSE2=np.sqrt(-cross_val_score(model, X_test, y_test, cv=10, \n",
    "                               scoring='neg_mean_squared_error')).mean() #verified RMSE score value for test model\n",
    "print('Verified RMSE value for Testing Model: ' + str(RMSE2))"
   ]
  },
  {
   "cell_type": "code",
   "execution_count": 89,
   "metadata": {},
   "outputs": [
    {
     "data": {
      "image/png": "[encoded data removed]",
      "text/plain": [
       "<Figure size 432x288 with 1 Axes>"
      ]
     },
     "metadata": {},
     "output_type": "display_data"
    }
   ],
   "source": [
    "#Visualizing for Multiple Linear Regression y values\n",
    "\n",
    "import seaborn as sns\n",
    "ax1 = sns.distplot(y_train, hist=False, color=\"r\", label=\"Actual Value\")\n",
    "sns.distplot(y_test, hist=False, color=\"b\", label=\"Fitted Values\" , ax=ax1);"
   ]
  },
  {
   "cell_type": "markdown",
   "metadata": {},
   "source": [
    "<a id= \"3\" ></a><br>**PRINCIPAL COMPONENT REGRESSION**"
   ]
  },
  {
   "cell_type": "code",
   "execution_count": 93,
   "metadata": {},
   "outputs": [],
   "source": [
    "from sklearn.decomposition import PCA\n",
    "from sklearn.preprocessing import scale\n",
    "\n",
    "pca=PCA()\n",
    "X_reduced_train=pca.fit_transform(scale(X_train))"
   ]
  },
  {
   "cell_type": "code",
   "execution_count": 94,
   "metadata": {},
   "outputs": [],
   "source": [
    "explained_variance_ratio=np.cumsum(np.round(pca.explained_variance_ratio_ , decimals=4)* 100)[0:20]"
   ]
  },
  {
   "cell_type": "code",
   "execution_count": 95,
   "metadata": {},
   "outputs": [
    {
     "data": {
      "image/png": "[encoded data removed]",
      "text/plain": [
       "<Figure size 432x288 with 1 Axes>"
      ]
     },
     "metadata": {},
     "output_type": "display_data"
    }
   ],
   "source": [
    "plt.bar(x=range(1, len(explained_variance_ratio)+1), height=explained_variance_ratio)\n",
    "plt.ylabel('percentange of explained variance')\n",
    "plt.xlabel('principal component')\n",
    "plt.title('bar plot')\n",
    "plt.show()\n",
    "# 7 component is enough for model."
   ]
  },
  {
   "cell_type": "code",
   "execution_count": 96,
   "metadata": {},
   "outputs": [
    {
     "name": "stdout",
     "output_type": "stream",
     "text": [
      "Intercept: -0.00546127832814683\n",
      "Coefficients: [-0.13248389  0.18798958  0.64978531 -0.24235563 -0.038966    0.34814071\n",
      " -0.01512341 -0.38662935 -0.30625748  0.14768885  0.59449755 -3.03336011]\n"
     ]
    }
   ],
   "source": [
    "lm=LinearRegression()\n",
    "pcr_model=lm.fit(X_reduced_train,y_train)\n",
    "print('Intercept: ' + str(pcr_model.intercept_))\n",
    "print('Coefficients: ' + str(pcr_model.coef_))"
   ]
  },
  {
   "cell_type": "code",
   "execution_count": 97,
   "metadata": {},
   "outputs": [
    {
     "data": {
      "text/plain": [
       "0.268553922694838"
      ]
     },
     "execution_count": 97,
     "metadata": {},
     "output_type": "execute_result"
    }
   ],
   "source": [
    "#Prediction\n",
    "y_pred=pcr_model.predict(X_reduced_train)\n",
    "np.sqrt(mean_squared_error(y_train,y_pred))"
   ]
  },
  {
   "cell_type": "code",
   "execution_count": 98,
   "metadata": {},
   "outputs": [
    {
     "data": {
      "text/plain": [
       "-0.006335507987812318"
      ]
     },
     "execution_count": 98,
     "metadata": {},
     "output_type": "execute_result"
    }
   ],
   "source": [
    "df['motor_speed'].mean()"
   ]
  },
  {
   "cell_type": "code",
   "execution_count": 99,
   "metadata": {},
   "outputs": [
    {
     "data": {
      "text/plain": [
       "0.9280615197697045"
      ]
     },
     "execution_count": 99,
     "metadata": {},
     "output_type": "execute_result"
    }
   ],
   "source": [
    "#R squared\n",
    "r2_score(y_train,y_pred)"
   ]
  },
  {
   "cell_type": "code",
   "execution_count": 100,
   "metadata": {},
   "outputs": [
    {
     "name": "stdout",
     "output_type": "stream",
     "text": [
      "RMSE for test model : 1.6579608918029016\n"
     ]
    }
   ],
   "source": [
    "# Prediction For testing error \n",
    "pca2=PCA()\n",
    "\n",
    "X_reduced_test=pca2.fit_transform(scale(X_test))\n",
    "pcr_model2=lm.fit(X_test,y_test)\n",
    "\n",
    "y_pred=pcr_model2.predict(X_reduced_test)\n",
    "\n",
    "print('RMSE for test model : ' +str(np.sqrt(mean_squared_error(y_test,y_pred))))"
   ]
  },
  {
   "cell_type": "code",
   "execution_count": 101,
   "metadata": {},
   "outputs": [],
   "source": [
    "#Model Tuning for PCR\n",
    "\n",
    "lm=LinearRegression()\n",
    "pcr_model=lm.fit(X_reduced_train[:,0:10],y_train)\n",
    "y_pred=pcr_model.predict(X_reduced_test[:,0:10])\n",
    "\n",
    "from sklearn import model_selection\n",
    "\n",
    "cv_10=model_selection.KFold(n_splits=10,\n",
    "                           shuffle=True,\n",
    "                           random_state=1)"
   ]
  },
  {
   "cell_type": "code",
   "execution_count": 102,
   "metadata": {},
   "outputs": [],
   "source": [
    "lm=LinearRegression()\n",
    "RMSE=[]\n",
    "\n",
    "for i in np.arange(1,X_reduced_train.shape[1] + 1):\n",
    "    score=np.sqrt(-1*model_selection.cross_val_score(lm,\n",
    "                                                    X_reduced_train[:,:i],\n",
    "                                                    y_train.ravel(),\n",
    "                                                    cv=cv_10,\n",
    "                                                    scoring='neg_mean_squared_error').mean())\n",
    "    RMSE.append(score)"
   ]
  },
  {
   "cell_type": "code",
   "execution_count": 103,
   "metadata": {},
   "outputs": [
    {
     "data": {
      "image/png": "[encoded data removed]",
      "text/plain": [
       "<Figure size 432x288 with 1 Axes>"
      ]
     },
     "metadata": {},
     "output_type": "display_data"
    }
   ],
   "source": [
    "plt.plot(RMSE)\n",
    "plt.xlabel('# of Components')\n",
    "plt.ylabel('RMSE')\n",
    "plt.title('PCR Model Tuning for Motor_Speed Prediction'); "
   ]
  },
  {
   "cell_type": "markdown",
   "metadata": {},
   "source": [
    "10 component is good for the model because RMSE value is the smallest for this component number. That's why there is no need to tune the model."
   ]
  },
  {
   "cell_type": "markdown",
   "metadata": {},
   "source": [
    "<a id= \"4\" ></a><br>**KNN REGRESSION**"
   ]
  },
  {
   "cell_type": "code",
   "execution_count": 105,
   "metadata": {},
   "outputs": [],
   "source": [
    "from sklearn.model_selection import GridSearchCV\n",
    "from sklearn.tree import DecisionTreeRegressor,DecisionTreeClassifier\n",
    "from sklearn.neighbors import KNeighborsRegressor\n",
    "from sklearn.ensemble import BaggingRegressor\n",
    "from sklearn.ensemble import RandomForestRegressor\n",
    "\n",
    "from warnings import filterwarnings\n",
    "filterwarnings('ignore')"
   ]
  },
  {
   "cell_type": "code",
   "execution_count": 106,
   "metadata": {},
   "outputs": [],
   "source": [
    "knn_model=KNeighborsRegressor().fit(X_train, y_train)\n",
    "y_pred=knn_model.predict(X_test)"
   ]
  },
  {
   "cell_type": "code",
   "execution_count": 107,
   "metadata": {},
   "outputs": [
    {
     "data": {
      "text/plain": [
       "(199614,)"
      ]
     },
     "execution_count": 107,
     "metadata": {},
     "output_type": "execute_result"
    }
   ],
   "source": [
    "y_pred.shape"
   ]
  },
  {
   "cell_type": "code",
   "execution_count": 108,
   "metadata": {},
   "outputs": [
    {
     "data": {
      "text/plain": [
       "2"
      ]
     },
     "execution_count": 108,
     "metadata": {},
     "output_type": "execute_result"
    }
   ],
   "source": [
    "#Model Tuning (learning best n_neighbors hyperparameter)\n",
    "knn_params={'n_neighbors' : np.arange(1,5,1)}\n",
    "\n",
    "knn=KNeighborsRegressor()\n",
    "knn_cv_model=GridSearchCV(knn, knn_params, cv=5)\n",
    "\n",
    "knn_cv_model.fit(X_train,y_train)\n",
    "knn_cv_model.best_params_[\"n_neighbors\"]"
   ]
  },
  {
   "cell_type": "code",
   "execution_count": 109,
   "metadata": {},
   "outputs": [
    {
     "name": "stdout",
     "output_type": "stream",
     "text": [
      "RMSE value:  0.0 for k=  1 RMSE values with applying Cross Validation:  0.0391356161728771\n",
      "RMSE value:  0.01454401830556433 for k=  2 RMSE values with applying Cross Validation:  0.03771565668468597\n"
     ]
    }
   ],
   "source": [
    "# Train error values from n=1 up n=2\n",
    "RMSE=[]\n",
    "RMSE_CV=[]\n",
    "for k in range(2):\n",
    "    k=k+1\n",
    "    knn_model=KNeighborsRegressor(n_neighbors=k).fit(X_train, y_train)\n",
    "    y_pred=knn_model.predict(X_train)\n",
    "    rmse=np.sqrt(mean_squared_error(y_train,y_pred))\n",
    "    rmse_cv=np.sqrt(-1*cross_val_score(knn_model,X_train,y_train,cv=2,\n",
    "                                       scoring='neg_mean_squared_error').mean())\n",
    "\n",
    "    RMSE.append(rmse)\n",
    "    RMSE_CV.append(rmse_cv)\n",
    "\n",
    "    print(\"RMSE value: \", rmse, 'for k= ',k,\n",
    "          \"RMSE values with applying Cross Validation: \", rmse_cv)"
   ]
  },
  {
   "cell_type": "code",
   "execution_count": 110,
   "metadata": {},
   "outputs": [
    {
     "data": {
      "text/plain": [
       "0.02554626491850223"
      ]
     },
     "execution_count": 110,
     "metadata": {},
     "output_type": "execute_result"
    }
   ],
   "source": [
    "#Model Tuning according to best parametre for KNN Regression\n",
    "knn_tuned=KNeighborsRegressor(n_neighbors=knn_cv_model.best_params_[\"n_neighbors\"])\n",
    "knn_tuned.fit(X_train,y_train)\n",
    "np.sqrt(mean_squared_error(y_test,knn_tuned.predict(X_test)))"
   ]
  },
  {
   "cell_type": "code",
   "execution_count": 115,
   "metadata": {},
   "outputs": [],
   "source": [
    "from sklearn.linear_model import LinearRegression\n",
    "from sklearn.model_selection import train_test_split\n",
    "from sklearn.preprocessing import PolynomialFeatures\n",
    "from sklearn.metrics import r2_score,mean_squared_error"
   ]
  },
  {
   "cell_type": "markdown",
   "metadata": {},
   "source": [
    "<a id= \"5\" ></a><br> **POLYNOMIAL REGRESSION**"
   ]
  },
  {
   "cell_type": "code",
   "execution_count": 113,
   "metadata": {},
   "outputs": [
    {
     "name": "stdout",
     "output_type": "stream",
     "text": [
      "Polynomial Linear Regression: 0.9952573854207651\n"
     ]
    }
   ],
   "source": [
    "quad = PolynomialFeatures (degree = 2)\n",
    "x_quad = quad.fit_transform(X_train)\n",
    "\n",
    "X_train,X_test,y_train,y_test = train_test_split(x_quad,y_train, random_state = 0)\n",
    "\n",
    "plr = LinearRegression().fit(X_train,y_train)\n",
    "\n",
    "Y_train_pred = plr.predict(X_train)\n",
    "Y_test_pred = plr.predict(X_test)\n",
    "\n",
    "print('Polynomial Linear Regression:' ,plr.score(X_test,y_test))"
   ]
  },
  {
   "cell_type": "code",
   "execution_count": 114,
   "metadata": {},
   "outputs": [
    {
     "name": "stdout",
     "output_type": "stream",
     "text": [
      "Coefficients: \n",
      " [-1.19652298e-12 -1.94751304e-03  8.86767668e-02 -1.51002720e-01\n",
      "  8.46456963e-01 -4.33513690e-01 -4.11436417e-01  2.67644301e-01\n",
      "  1.87790064e-02 -1.25988463e-01 -1.71853359e-01  2.54897914e-01\n",
      "  7.40823232e-04 -4.34110557e-03 -3.24485408e-02  1.34249919e-02\n",
      " -1.05690117e-04  1.67560244e-01  8.52062538e-03 -1.56724820e-01\n",
      " -1.89292501e-03  5.46155535e-02 -9.53354640e-03 -1.36632243e-02\n",
      "  2.28461480e-05  6.35750499e-02 -1.63781265e-01 -5.32017845e-02\n",
      " -9.07557261e-01 -5.67804823e-02  7.42197288e-01  1.03560119e-01\n",
      " -4.73717311e-01  3.83839811e-01 -4.06039694e-02 -6.25699752e-04\n",
      "  1.38771773e-01  3.68937154e-02 -8.83271855e-01  2.50808967e-02\n",
      "  1.04897761e+00 -3.74045176e-02  6.23406019e-01 -6.54857489e-01\n",
      "  1.79516489e-01 -1.55441855e-03 -4.59404937e-05 -3.55526844e-01\n",
      " -3.64804458e-01  2.34531508e-01 -3.94524138e-03  2.36891662e-01\n",
      " -2.88885594e-01  1.08053335e-01 -3.56503666e-04  7.56339301e-01\n",
      "  7.49643580e-01 -3.33692091e+00 -3.06318572e-01  4.23305718e+00\n",
      " -5.39802183e+00  2.10899507e+00 -3.84090475e-03  3.82247855e-01\n",
      " -6.62559679e-01 -3.21686761e-02  2.04955803e-01 -2.70200980e-01\n",
      "  1.16040888e-01 -3.21988930e-04  2.61534726e+00  2.63818883e-01\n",
      " -3.58802305e+00  4.68164431e+00 -1.89010204e+00  2.42748089e-03\n",
      "  8.90538096e-03 -3.41181602e-01  3.53620032e-01 -1.06780573e-01\n",
      "  2.51351405e-04  8.80366838e-01 -1.46367360e+00  2.09986581e-01\n",
      "  6.14259740e-04  5.86532523e-01 -1.59061514e-01  3.16715435e-03\n",
      "  9.53273810e-03 -3.66373716e-03 -5.86982787e-06]\n",
      "Variance score: 0.9952573854207651\n"
     ]
    },
    {
     "data": {
      "image/png": "[encoded data removed]",
      "text/plain": [
       "<Figure size 432x288 with 1 Axes>"
      ]
     },
     "metadata": {},
     "output_type": "display_data"
    }
   ],
   "source": [
    "#Plotting Residual in Linear Regression \n",
    "\n",
    "from sklearn import linear_model,metrics\n",
    "#Create linear regression object\n",
    "reg=linear_model.LinearRegression()\n",
    "\n",
    "#train the model using the train data sets\n",
    "reg.fit(X_train,y_train)\n",
    "\n",
    "#regression coefficients\n",
    "print(\"Coefficients: \\n\", reg.coef_)\n",
    "\n",
    "#Variance score\n",
    "print(\"Variance score: {}\".format(reg.score(X_test,y_test)))\n",
    "\n",
    "plt.style.use('fivethirtyeight')\n",
    "\n",
    "#plotting residual errors in training data\n",
    "plt.scatter(reg.predict(X_train),reg.predict(X_train)-y_train, \n",
    "            color=\"green\", s=10, label=\"train data\")\n",
    "\n",
    "#plotting residual errors in test data\n",
    "plt.scatter(reg.predict(X_test),reg.predict(X_test)-y_test, \n",
    "            color=\"blue\", s=10, label=\"test data\")\n",
    "\n",
    "#plot line for zero residual error\n",
    "plt.hlines(y=0,xmin=-2, xmax=2, linewidth=2)\n",
    "\n",
    "#plot legend\n",
    "plt.legend(loc='upper right')\n",
    "\n",
    "#plot title\n",
    "plt.title(\"residual error\")\n",
    "\n",
    "plt.show()"
   ]
  },
  {
   "cell_type": "code",
   "execution_count": null,
   "metadata": {},
   "outputs": [],
   "source": []
  }
 ],
 "metadata": {
  "kernelspec": {
   "display_name": "Python 3",
   "language": "python",
   "name": "python3"
  },
  "language_info": {
   "codemirror_mode": {
    "name": "ipython",
    "version": 3
   },
   "file_extension": ".py",
   "mimetype": "text/x-python",
   "name": "python",
   "nbconvert_exporter": "python",
   "pygments_lexer": "ipython3",
   "version": "3.7.6"
  }
 },
 "nbformat": 4,
 "nbformat_minor": 4
}
