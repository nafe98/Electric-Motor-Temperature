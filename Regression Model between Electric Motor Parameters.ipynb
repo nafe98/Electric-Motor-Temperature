{
 "cells": [
  {
   "cell_type": "code",
   "execution_count": 1,
   "metadata": {
    "_cell_guid": "b1076dfc-b9ad-4769-8c92-a6c4dae69d19",
    "_uuid": "8f2839f25d086af736a60e9eeb907d3b93b6e0e5"
   },
   "outputs": [
    {
     "ename": "ImportError",
     "evalue": "cannot import name 'Imputer' from 'sklearn.preprocessing' (C:\\ProgramData\\Anaconda3\\lib\\site-packages\\sklearn\\preprocessing\\__init__.py)",
     "output_type": "error",
     "traceback": [
      "\u001b[1;31m---------------------------------------------------------------------------\u001b[0m",
      "\u001b[1;31mImportError\u001b[0m                               Traceback (most recent call last)",
      "\u001b[1;32m<ipython-input-1-86aab4f15b53>\u001b[0m in \u001b[0;36m<module>\u001b[1;34m\u001b[0m\n\u001b[0;32m      2\u001b[0m \u001b[1;31m# It is defined by the kaggle/python docker image: https://github.com/kaggle/docker-python\u001b[0m\u001b[1;33m\u001b[0m\u001b[1;33m\u001b[0m\u001b[1;33m\u001b[0m\u001b[0m\n\u001b[0;32m      3\u001b[0m \u001b[1;31m# For example, here's several helpful packages to load in\u001b[0m\u001b[1;33m\u001b[0m\u001b[1;33m\u001b[0m\u001b[1;33m\u001b[0m\u001b[0m\n\u001b[1;32m----> 4\u001b[1;33m \u001b[1;32mfrom\u001b[0m \u001b[0msklearn\u001b[0m\u001b[1;33m.\u001b[0m\u001b[0mpreprocessing\u001b[0m \u001b[1;32mimport\u001b[0m \u001b[0mImputer\u001b[0m\u001b[1;33m\u001b[0m\u001b[1;33m\u001b[0m\u001b[0m\n\u001b[0m\u001b[0;32m      5\u001b[0m \u001b[1;32mfrom\u001b[0m \u001b[0msklearn\u001b[0m\u001b[1;33m.\u001b[0m\u001b[0mmodel_selection\u001b[0m \u001b[1;32mimport\u001b[0m \u001b[0mKFold\u001b[0m\u001b[1;33m\u001b[0m\u001b[1;33m\u001b[0m\u001b[0m\n\u001b[0;32m      6\u001b[0m \u001b[1;32mfrom\u001b[0m \u001b[0msklearn\u001b[0m \u001b[1;32mimport\u001b[0m \u001b[0mlinear_model\u001b[0m\u001b[1;33m\u001b[0m\u001b[1;33m\u001b[0m\u001b[0m\n",
      "\u001b[1;31mImportError\u001b[0m: cannot import name 'Imputer' from 'sklearn.preprocessing' (C:\\ProgramData\\Anaconda3\\lib\\site-packages\\sklearn\\preprocessing\\__init__.py)"
     ]
    }
   ],
   "source": [
    "# This Python 3 environment comes with many helpful analytics libraries installed\n",
    "# It is defined by the kaggle/python docker image: https://github.com/kaggle/docker-python\n",
    "# For example, here's several helpful packages to load in \n",
    "from sklearn.preprocessing import Imputer\n",
    "from sklearn.model_selection import KFold\n",
    "from sklearn import linear_model\n",
    "from sklearn.metrics import make_scorer\n",
    "\n",
    "from sklearn import svm\n",
    "import numpy as np # linear algebra\n",
    "import pandas as pd # data processing, CSV file I/O (e.g. pd.read_csv)\n",
    "import matplotlib.pyplot as plt\n",
    "from sklearn.linear_model import LinearRegression\n",
    "\n",
    "from sklearn import neighbors\n",
    "from math import sqrt\n",
    "\n",
    "# Input data files are available in the \"../input/\" directory.\n",
    "# For example, running this (by clicking run or pressing Shift+Enter) will list all files under the input directory\n",
    "\n",
    "import os\n",
    "for dirname, _, filenames in os.walk('/kaggle/input'):\n",
    "    for filename in filenames:\n",
    "        print(os.path.join(dirname, filename))\n",
    "# Any results you write to the current directory are saved as output."
   ]
  },
  {
   "cell_type": "markdown",
   "metadata": {},
   "source": [
    "[**BASIC LINEAR REGRESSION**](#1)\n",
    "\n",
    "[**MULTIPLE LINEAR REGRESSION**](#2)\n",
    "\n",
    "[**PRINCIPAL COMPONENT REGRESSION**](#3)\n",
    "\n",
    "[**K-NEAREST NEIGHBORHOOD REGRESSION**](#4)\n",
    "\n",
    "[**POLYNOMIAL REGRESSION**](#5)"
   ]
  },
  {
   "cell_type": "code",
   "execution_count": 2,
   "metadata": {},
   "outputs": [
    {
     "ename": "NameError",
     "evalue": "name 'pd' is not defined",
     "output_type": "error",
     "traceback": [
      "\u001b[1;31m---------------------------------------------------------------------------\u001b[0m",
      "\u001b[1;31mNameError\u001b[0m                                 Traceback (most recent call last)",
      "\u001b[1;32m<ipython-input-2-97559fde204a>\u001b[0m in \u001b[0;36m<module>\u001b[1;34m\u001b[0m\n\u001b[0;32m      1\u001b[0m \u001b[1;31m# read data\u001b[0m\u001b[1;33m\u001b[0m\u001b[1;33m\u001b[0m\u001b[1;33m\u001b[0m\u001b[0m\n\u001b[1;32m----> 2\u001b[1;33m df = pd.read_csv('../input/pmsm_temperature_data.csv', \n\u001b[0m\u001b[0;32m      3\u001b[0m                  usecols=[0,1,2,3,4,5,6,7,8,9,10,11])\n\u001b[0;32m      4\u001b[0m \u001b[0mdf\u001b[0m\u001b[1;33m.\u001b[0m\u001b[0mhead\u001b[0m\u001b[1;33m(\u001b[0m\u001b[1;36m10\u001b[0m\u001b[1;33m)\u001b[0m\u001b[1;33m\u001b[0m\u001b[1;33m\u001b[0m\u001b[0m\n",
      "\u001b[1;31mNameError\u001b[0m: name 'pd' is not defined"
     ]
    }
   ],
   "source": [
    "# read data\n",
    "df = pd.read_csv('../input/pmsm_temperature_data.csv', \n",
    "                 usecols=[0,1,2,3,4,5,6,7,8,9,10,11])\n",
    "df.head(10)"
   ]
  },
  {
   "cell_type": "code",
   "execution_count": null,
   "metadata": {},
   "outputs": [],
   "source": [
    "df.info()"
   ]
  },
  {
   "cell_type": "code",
   "execution_count": null,
   "metadata": {},
   "outputs": [],
   "source": [
    "df.describe().T"
   ]
  },
  {
   "cell_type": "code",
   "execution_count": null,
   "metadata": {},
   "outputs": [],
   "source": [
    "df.isnull().values.any()"
   ]
  },
  {
   "cell_type": "code",
   "execution_count": null,
   "metadata": {},
   "outputs": [],
   "source": [
    "# Count the number of NaNs each column has.\n",
    "nans=pd.isnull(df).sum()\n",
    "nans[nans>0]"
   ]
  },
  {
   "cell_type": "code",
   "execution_count": null,
   "metadata": {},
   "outputs": [],
   "source": [
    "# Count the column types\n",
    "df.dtypes.value_counts()"
   ]
  },
  {
   "cell_type": "code",
   "execution_count": null,
   "metadata": {},
   "outputs": [],
   "source": [
    "df.corr()"
   ]
  },
  {
   "cell_type": "code",
   "execution_count": null,
   "metadata": {},
   "outputs": [],
   "source": [
    "import seaborn as sns\n",
    "sns.jointplot(x='i_d', y='motor_speed', data=df, kind='reg')"
   ]
  },
  {
   "cell_type": "code",
   "execution_count": null,
   "metadata": {},
   "outputs": [],
   "source": [
    "#correlation map\n",
    "f,ax=plt.subplots(figsize=(12,12))\n",
    "corr=df.corr()\n",
    "\n",
    "sns.heatmap(corr, annot=True, linewidths=.5, fmt='.2f', \n",
    "            mask= np.zeros_like(corr,dtype=np.bool), \n",
    "            cmap=sns.diverging_palette(100,200,as_cmap=True), \n",
    "            square=True, ax=ax)\n",
    "\n",
    "plt.show()"
   ]
  },
  {
   "cell_type": "markdown",
   "metadata": {},
   "source": [
    "There are high correlation between values."
   ]
  },
  {
   "cell_type": "markdown",
   "metadata": {},
   "source": [
    "<a id= \"1\" ></a><br>**BASIC LINEAR REGRESSION**"
   ]
  },
  {
   "cell_type": "code",
   "execution_count": null,
   "metadata": {},
   "outputs": [],
   "source": [
    "import statsmodels.api as sm\n",
    "#Defining dependet and independent variable\n",
    "X = df['i_d']\n",
    "X=sm.add_constant(X)\n",
    "\n",
    "y = df['motor_speed']\n",
    "\n",
    "lm=sm.OLS(y,X)\n",
    "model=lm.fit()\n",
    "\n",
    "model.summary()"
   ]
  },
  {
   "cell_type": "markdown",
   "metadata": {},
   "source": [
    "y=-0.002-0.7245*x this is formula of basic regression model. p-value is less than 0.05 so it is meaningful model."
   ]
  },
  {
   "cell_type": "code",
   "execution_count": null,
   "metadata": {},
   "outputs": [],
   "source": [
    "model.params"
   ]
  },
  {
   "cell_type": "code",
   "execution_count": null,
   "metadata": {},
   "outputs": [],
   "source": [
    "print(\"f_pvalue:\", \"%.4f\" % model.f_pvalue)"
   ]
  },
  {
   "cell_type": "code",
   "execution_count": null,
   "metadata": {},
   "outputs": [],
   "source": [
    "model.mse_model #mean squared error is too much. It is not good."
   ]
  },
  {
   "cell_type": "code",
   "execution_count": null,
   "metadata": {},
   "outputs": [],
   "source": [
    "model.rsquared #Not bad"
   ]
  },
  {
   "cell_type": "code",
   "execution_count": null,
   "metadata": {},
   "outputs": [],
   "source": [
    "model.rsquared_adj #Not bad"
   ]
  },
  {
   "cell_type": "code",
   "execution_count": null,
   "metadata": {},
   "outputs": [],
   "source": [
    "model.fittedvalues[0:5] #Predicted values"
   ]
  },
  {
   "cell_type": "code",
   "execution_count": null,
   "metadata": {},
   "outputs": [],
   "source": [
    "y[0:5] #Real values"
   ]
  },
  {
   "cell_type": "code",
   "execution_count": null,
   "metadata": {},
   "outputs": [],
   "source": [
    "#Model equation\n",
    "print(\"Motor speed = \" + \n",
    "      str(\"%.3f\" % model.params[0]) + ' + i_d' + \"*\" + \n",
    "      str(\"%.3f\" % model.params[1]))"
   ]
  },
  {
   "cell_type": "code",
   "execution_count": null,
   "metadata": {},
   "outputs": [],
   "source": [
    "#Model Visualization \n",
    "g=sns.regplot(df['i_d'] , df['motor_speed'], \n",
    "              ci=None, scatter_kws={'color': 'r', 's':9})\n",
    "g.set_title('Model equation: motor_speed = -0.002 + i_d * -0.725')\n",
    "g.set_ylabel('Motor_speed')\n",
    "g.set_xlabel('i_d');"
   ]
  },
  {
   "cell_type": "code",
   "execution_count": null,
   "metadata": {},
   "outputs": [],
   "source": [
    "from sklearn.metrics import r2_score,mean_squared_error\n",
    "\n",
    "mse=mean_squared_error(y, model.fittedvalues)\n",
    "rmse=np.sqrt(mse)\n",
    "rmse"
   ]
  },
  {
   "cell_type": "code",
   "execution_count": null,
   "metadata": {},
   "outputs": [],
   "source": [
    "k_t=pd.DataFrame({'Real_values':y[0:50], \n",
    "                  'Predicted_values' :model.fittedvalues[0:50]})\n",
    "k_t['error']=k_t['Real_values']-k_t['Predicted_values']\n",
    "k_t.head()"
   ]
  },
  {
   "cell_type": "code",
   "execution_count": null,
   "metadata": {},
   "outputs": [],
   "source": [
    "model.resid[0:10] #It is easy way to learn residuals."
   ]
  },
  {
   "cell_type": "code",
   "execution_count": null,
   "metadata": {},
   "outputs": [],
   "source": [
    "plt.plot(model.resid);"
   ]
  },
  {
   "cell_type": "markdown",
   "metadata": {},
   "source": [
    "<a id= \"2\" ></a><br>**MULTIPLE LINEAR REGRESSION**"
   ]
  },
  {
   "cell_type": "code",
   "execution_count": null,
   "metadata": {},
   "outputs": [],
   "source": [
    "X=df.drop(\"motor_speed\", axis=1)\n",
    "y=df[\"motor_speed\"]"
   ]
  },
  {
   "cell_type": "code",
   "execution_count": null,
   "metadata": {},
   "outputs": [],
   "source": [
    "from sklearn.model_selection import train_test_split,cross_val_score,cross_val_predict\n",
    "\n",
    "X_train,X_test,y_train,y_test=train_test_split(X,y,test_size=0.2, random_state=42)\n",
    "\n",
    "training=df.copy()"
   ]
  },
  {
   "cell_type": "code",
   "execution_count": null,
   "metadata": {},
   "outputs": [],
   "source": [
    "lm=sm.OLS(y_train, X_train)\n",
    "\n",
    "model=lm.fit()\n",
    "model.summary() #All coefficients are significant for the model by looking at the p-value. ( P>|t| )"
   ]
  },
  {
   "cell_type": "code",
   "execution_count": null,
   "metadata": {},
   "outputs": [],
   "source": [
    "#Root Mean Squared Error for Train\n",
    "rmse1=np.sqrt(mean_squared_error(y_train,model.predict(X_train)))\n",
    "rmse1"
   ]
  },
  {
   "cell_type": "code",
   "execution_count": null,
   "metadata": {},
   "outputs": [],
   "source": [
    "#Root Mean Squared Error for Test\n",
    "rmse2=np.sqrt(mean_squared_error(y_test,model.predict(X_test)))\n",
    "rmse2"
   ]
  },
  {
   "cell_type": "code",
   "execution_count": null,
   "metadata": {},
   "outputs": [],
   "source": [
    "#Model Tuning for Multiple Linear Regression\n",
    "model = LinearRegression().fit(X_train,y_train)\n",
    "cross_val_score1=cross_val_score(model, X_train, y_train, cv=10, scoring='r2').mean() #verified score value for train model\n",
    "print('Verified R2 value for Training model: ' + str(cross_val_score1))\n",
    "\n",
    "cross_val_score2=cross_val_score(model, X_test, y_test, cv=10, scoring='r2').mean() #verified score value for test model\n",
    "print('Verified R2 value for Testing Model: ' + str(cross_val_score2))"
   ]
  },
  {
   "cell_type": "code",
   "execution_count": null,
   "metadata": {},
   "outputs": [],
   "source": [
    "RMSE1=np.sqrt(-cross_val_score(model, X_train, y_train, cv=10, \n",
    "                               scoring='neg_mean_squared_error')).mean() #verified RMSE score value for train model\n",
    "print('Verified RMSE value for Training model: ' + str(RMSE1))\n",
    "\n",
    "RMSE2=np.sqrt(-cross_val_score(model, X_test, y_test, cv=10, \n",
    "                               scoring='neg_mean_squared_error')).mean() #verified RMSE score value for test model\n",
    "print('Verified RMSE value for Testing Model: ' + str(RMSE2))"
   ]
  },
  {
   "cell_type": "code",
   "execution_count": null,
   "metadata": {},
   "outputs": [],
   "source": [
    "#Visualizing for Multiple Linear Regression y values\n",
    "\n",
    "import seaborn as sns\n",
    "ax1 = sns.distplot(y_train, hist=False, color=\"r\", label=\"Actual Value\")\n",
    "sns.distplot(y_test, hist=False, color=\"b\", label=\"Fitted Values\" , ax=ax1);"
   ]
  },
  {
   "cell_type": "markdown",
   "metadata": {},
   "source": [
    "<a id= \"3\" ></a><br>**PRINCIPAL COMPONENT REGRESSION**"
   ]
  },
  {
   "cell_type": "code",
   "execution_count": null,
   "metadata": {},
   "outputs": [],
   "source": [
    "from sklearn.decomposition import PCA\n",
    "from sklearn.preprocessing import scale\n",
    "\n",
    "pca=PCA()\n",
    "X_reduced_train=pca.fit_transform(scale(X_train))"
   ]
  },
  {
   "cell_type": "code",
   "execution_count": null,
   "metadata": {},
   "outputs": [],
   "source": [
    "explained_variance_ratio=np.cumsum(np.round(pca.explained_variance_ratio_ , decimals=4)* 100)[0:20]"
   ]
  },
  {
   "cell_type": "code",
   "execution_count": null,
   "metadata": {},
   "outputs": [],
   "source": [
    "plt.bar(x=range(1, len(explained_variance_ratio)+1), height=explained_variance_ratio)\n",
    "plt.ylabel('percentange of explained variance')\n",
    "plt.xlabel('principal component')\n",
    "plt.title('bar plot')\n",
    "plt.show()\n",
    "# 7 component is enough for model."
   ]
  },
  {
   "cell_type": "code",
   "execution_count": null,
   "metadata": {},
   "outputs": [],
   "source": [
    "lm=LinearRegression()\n",
    "pcr_model=lm.fit(X_reduced_train,y_train)\n",
    "print('Intercept: ' + str(pcr_model.intercept_))\n",
    "print('Coefficients: ' + str(pcr_model.coef_))"
   ]
  },
  {
   "cell_type": "code",
   "execution_count": null,
   "metadata": {},
   "outputs": [],
   "source": [
    "#Prediction\n",
    "y_pred=pcr_model.predict(X_reduced_train)\n",
    "np.sqrt(mean_squared_error(y_train,y_pred))"
   ]
  },
  {
   "cell_type": "code",
   "execution_count": null,
   "metadata": {},
   "outputs": [],
   "source": [
    "df['motor_speed'].mean()"
   ]
  },
  {
   "cell_type": "code",
   "execution_count": null,
   "metadata": {},
   "outputs": [],
   "source": [
    "#R squared\n",
    "r2_score(y_train,y_pred)"
   ]
  },
  {
   "cell_type": "code",
   "execution_count": null,
   "metadata": {},
   "outputs": [],
   "source": [
    "# Prediction For testing error \n",
    "pca2=PCA()\n",
    "\n",
    "X_reduced_test=pca2.fit_transform(scale(X_test))\n",
    "pcr_model2=lm.fit(X_test,y_test)\n",
    "\n",
    "y_pred=pcr_model2.predict(X_reduced_test)\n",
    "\n",
    "print('RMSE for test model : ' +str(np.sqrt(mean_squared_error(y_test,y_pred))))"
   ]
  },
  {
   "cell_type": "code",
   "execution_count": null,
   "metadata": {},
   "outputs": [],
   "source": [
    "#Model Tuning for PCR\n",
    "\n",
    "lm=LinearRegression()\n",
    "pcr_model=lm.fit(X_reduced_train[:,0:10],y_train)\n",
    "y_pred=pcr_model.predict(X_reduced_test[:,0:10])\n",
    "\n",
    "from sklearn import model_selection\n",
    "\n",
    "cv_10=model_selection.KFold(n_splits=10,\n",
    "                           shuffle=True,\n",
    "                           random_state=1)"
   ]
  },
  {
   "cell_type": "code",
   "execution_count": null,
   "metadata": {},
   "outputs": [],
   "source": [
    "lm=LinearRegression()\n",
    "RMSE=[]\n",
    "\n",
    "for i in np.arange(1,X_reduced_train.shape[1] + 1):\n",
    "    score=np.sqrt(-1*model_selection.cross_val_score(lm,\n",
    "                                                    X_reduced_train[:,:i],\n",
    "                                                    y_train.ravel(),\n",
    "                                                    cv=cv_10,\n",
    "                                                    scoring='neg_mean_squared_error').mean())\n",
    "    RMSE.append(score)"
   ]
  },
  {
   "cell_type": "code",
   "execution_count": null,
   "metadata": {},
   "outputs": [],
   "source": [
    "plt.plot(RMSE)\n",
    "plt.xlabel('# of Components')\n",
    "plt.ylabel('RMSE')\n",
    "plt.title('PCR Model Tuning for Motor_Speed Prediction'); "
   ]
  },
  {
   "cell_type": "markdown",
   "metadata": {},
   "source": [
    "10 component is good for the model because RMSE value is the smallest for this component number. That's why there is no need to tune the model."
   ]
  },
  {
   "cell_type": "markdown",
   "metadata": {},
   "source": [
    "<a id= \"4\" ></a><br>**KNN REGRESSION**"
   ]
  },
  {
   "cell_type": "code",
   "execution_count": null,
   "metadata": {},
   "outputs": [],
   "source": [
    "from sklearn.model_selection import GridSearchCV\n",
    "from sklearn.tree import DecisionTreeRegressor,DecisionTreeClassifier\n",
    "from sklearn.neighbors import KNeighborsRegressor\n",
    "from sklearn.ensemble import BaggingRegressor\n",
    "from sklearn.ensemble import RandomForestRegressor\n",
    "\n",
    "from warnings import filterwarnings\n",
    "filterwarnings('ignore')"
   ]
  },
  {
   "cell_type": "code",
   "execution_count": null,
   "metadata": {},
   "outputs": [],
   "source": [
    "knn_model=KNeighborsRegressor().fit(X_train, y_train)\n",
    "y_pred=knn_model.predict(X_test)"
   ]
  },
  {
   "cell_type": "code",
   "execution_count": null,
   "metadata": {},
   "outputs": [],
   "source": [
    "y_pred.shape"
   ]
  },
  {
   "cell_type": "code",
   "execution_count": null,
   "metadata": {},
   "outputs": [],
   "source": [
    "#Model Tuning (learning best n_neighbors hyperparameter)\n",
    "knn_params={'n_neighbors' : np.arange(1,5,1)}\n",
    "\n",
    "knn=KNeighborsRegressor()\n",
    "knn_cv_model=GridSearchCV(knn, knn_params, cv=5)\n",
    "\n",
    "knn_cv_model.fit(X_train,y_train)\n",
    "knn_cv_model.best_params_[\"n_neighbors\"]"
   ]
  },
  {
   "cell_type": "code",
   "execution_count": null,
   "metadata": {},
   "outputs": [],
   "source": [
    "# Train error values from n=1 up n=2\n",
    "RMSE=[]\n",
    "RMSE_CV=[]\n",
    "for k in range(2):\n",
    "    k=k+1\n",
    "    knn_model=KNeighborsRegressor(n_neighbors=k).fit(X_train, y_train)\n",
    "    y_pred=knn_model.predict(X_train)\n",
    "    rmse=np.sqrt(mean_squared_error(y_train,y_pred))\n",
    "    rmse_cv=np.sqrt(-1*cross_val_score(knn_model,X_train,y_train,cv=2,\n",
    "                                       scoring='neg_mean_squared_error').mean())\n",
    "\n",
    "    RMSE.append(rmse)\n",
    "    RMSE_CV.append(rmse_cv)\n",
    "\n",
    "    print(\"RMSE value: \", rmse, 'for k= ',k,\n",
    "          \"RMSE values with applying Cross Validation: \", rmse_cv)"
   ]
  },
  {
   "cell_type": "code",
   "execution_count": null,
   "metadata": {},
   "outputs": [],
   "source": [
    "#Model Tuning according to best parametre for KNN Regression\n",
    "knn_tuned=KNeighborsRegressor(n_neighbors=knn_cv_model.best_params_[\"n_neighbors\"])\n",
    "knn_tuned.fit(X_train,y_train)\n",
    "np.sqrt(mean_squared_error(y_test,knn_tuned.predict(X_test)))"
   ]
  },
  {
   "cell_type": "code",
   "execution_count": null,
   "metadata": {},
   "outputs": [],
   "source": [
    "from sklearn.linear_model import LinearRegression\n",
    "from sklearn.model_selection import train_test_split\n",
    "from sklearn.preprocessing import PolynomialFeatures\n",
    "from sklearn.metrics import r2_score,mean_squared_error"
   ]
  },
  {
   "cell_type": "markdown",
   "metadata": {},
   "source": [
    "<a id= \"5\" ></a><br> POLYNOMIAL REGRESSION"
   ]
  },
  {
   "cell_type": "code",
   "execution_count": null,
   "metadata": {},
   "outputs": [],
   "source": [
    "quad = PolynomialFeatures (degree = 2)\n",
    "x_quad = quad.fit_transform(X_train)\n",
    "\n",
    "X_train,X_test,y_train,y_test = train_test_split(x_quad,y_train, random_state = 0)\n",
    "\n",
    "plr = LinearRegression().fit(X_train,y_train)\n",
    "\n",
    "Y_train_pred = plr.predict(X_train)\n",
    "Y_test_pred = plr.predict(X_test)\n",
    "\n",
    "print('Polynomial Linear Regression:' ,plr.score(X_test,y_test))"
   ]
  },
  {
   "cell_type": "code",
   "execution_count": null,
   "metadata": {},
   "outputs": [],
   "source": [
    "#Plotting Residual in Linear Regression \n",
    "\n",
    "from sklearn import linear_model,metrics\n",
    "#Create linear regression object\n",
    "reg=linear_model.LinearRegression()\n",
    "\n",
    "#train the model using the train data sets\n",
    "reg.fit(X_train,y_train)\n",
    "\n",
    "#regression coefficients\n",
    "print(\"Coefficients: \\n\", reg.coef_)\n",
    "\n",
    "#Variance score\n",
    "print(\"Variance score: {}\".format(reg.score(X_test,y_test)))\n",
    "\n",
    "plt.style.use('fivethirtyeight')\n",
    "\n",
    "#plotting residual errors in training data\n",
    "plt.scatter(reg.predict(X_train),reg.predict(X_train)-y_train, \n",
    "            color=\"green\", s=10, label=\"train data\")\n",
    "\n",
    "#plotting residual errors in test data\n",
    "plt.scatter(reg.predict(X_test),reg.predict(X_test)-y_test, \n",
    "            color=\"blue\", s=10, label=\"test data\")\n",
    "\n",
    "#plot line for zero residual error\n",
    "plt.hlines(y=0,xmin=-2, xmax=2, linewidth=2)\n",
    "\n",
    "#plot legend\n",
    "plt.legend(loc='upper right')\n",
    "\n",
    "#plot title\n",
    "plt.title(\"residual error\")\n",
    "\n",
    "plt.show()"
   ]
  }
 ],
 "metadata": {
  "kernelspec": {
   "display_name": "Python 3",
   "language": "python",
   "name": "python3"
  },
  "language_info": {
   "codemirror_mode": {
    "name": "ipython",
    "version": 3
   },
   "file_extension": ".py",
   "mimetype": "text/x-python",
   "name": "python",
   "nbconvert_exporter": "python",
   "pygments_lexer": "ipython3",
   "version": "3.7.6"
  }
 },
 "nbformat": 4,
 "nbformat_minor": 4
}
